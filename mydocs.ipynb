{
 "cells": [
  {
   "cell_type": "code",
   "execution_count": 1,
   "id": "2110753b-d41b-4df3-b796-2e0bd040ee27",
   "metadata": {},
   "outputs": [
    {
     "name": "stdout",
     "output_type": "stream",
     "text": [
      "Value of a is 4 and Value of b is 5\n",
      "Value of b is 5 and Value of a is 4\n",
      "Value of a is 4 and Value of b is 5\n"
     ]
    }
   ],
   "source": [
    "a=4; b=5\n",
    "print(\"Value of a is {} and Value of b is {}\".format(a,b))\n",
    "print(\"Value of b is {} and Value of a is {}\".format(b,a))\n",
    "print(\"Value of a is {1} and Value of b is {0}\".format(b,a))\n"
   ]
  },
  {
   "cell_type": "code",
   "execution_count": 21,
   "id": "a6fcd37f-1ba6-438a-a011-d1d2837f02cd",
   "metadata": {},
   "outputs": [
    {
     "name": "stdout",
     "output_type": "stream",
     "text": [
      "True\n"
     ]
    }
   ],
   "source": [
    "# def find_hcf(a,b):\n",
    "#     while b:\n",
    "#         a,b=b,a%b\n",
    "#     return a\n",
    "# n1=int(input(\"enter the number:\"))\n",
    "# n2=int(input(\"enter the number:\"))\n",
    "\n",
    "# print(find_hcf(n1,n2)\n",
    "\n",
    "st=[1,-2,-13,-23,3]\n",
    "print(all(st))\n",
    "        \n"
   ]
  },
  {
   "cell_type": "code",
   "execution_count": 16,
   "id": "c086bc8a-3888-42e1-8ab5-551b38517de4",
   "metadata": {},
   "outputs": [
    {
     "name": "stdout",
     "output_type": "stream",
     "text": [
      "False\n"
     ]
    }
   ],
   "source": [
    "st=[0,1,3]\n",
    "print(all(st))"
   ]
  },
  {
   "cell_type": "code",
   "execution_count": 17,
   "id": "ad3b21a9-2763-4443-aae8-ddffcc77996d",
   "metadata": {},
   "outputs": [
    {
     "name": "stdout",
     "output_type": "stream",
     "text": [
      "True\n"
     ]
    }
   ],
   "source": [
    "st=[]\n",
    "print(all(st))"
   ]
  },
  {
   "cell_type": "code",
   "execution_count": 18,
   "id": "ca6c323a-c160-42d4-94e6-89b99c827063",
   "metadata": {},
   "outputs": [
    {
     "name": "stdout",
     "output_type": "stream",
     "text": [
      "<class 'list'>\n"
     ]
    }
   ],
   "source": [
    "st=[]\n",
    "print(type(st))"
   ]
  },
  {
   "cell_type": "code",
   "execution_count": 22,
   "id": "79dfd496-a671-42ce-a100-5e087673cf1b",
   "metadata": {},
   "outputs": [
    {
     "name": "stdout",
     "output_type": "stream",
     "text": [
      "<class 'list'>\n",
      "<class 'tuple'>\n"
     ]
    }
   ],
   "source": [
    "st=[]\n",
    "print(type(st))\n",
    "vt=tuple(st)\n",
    "print(type(vt))"
   ]
  },
  {
   "cell_type": "code",
   "execution_count": 23,
   "id": "58beff44-b27b-45dd-8828-239fcb43bd39",
   "metadata": {},
   "outputs": [
    {
     "name": "stdout",
     "output_type": "stream",
     "text": [
      "(6, 1)\n"
     ]
    }
   ],
   "source": [
    "print(divmod(13,2))"
   ]
  },
  {
   "cell_type": "code",
   "execution_count": 24,
   "id": "2ee38180-c279-44c0-81fe-b01beb466fee",
   "metadata": {},
   "outputs": [
    {
     "name": "stdout",
     "output_type": "stream",
     "text": [
      "index0 has value 10\n",
      "index1 has value 11\n",
      "index2 has value 12\n",
      "index3 has value 123\n"
     ]
    }
   ],
   "source": [
    "st=[10,11,12,123]\n",
    "for index , num in enumerate(st,start=0):\n",
    "    print(\"index{0} has value {1}\".format(index,num))\n",
    "    "
   ]
  },
  {
   "cell_type": "code",
   "execution_count": 32,
   "id": "304cc8f1-69e7-4b40-ac75-b5f89886207e",
   "metadata": {},
   "outputs": [
    {
     "name": "stdout",
     "output_type": "stream",
     "text": [
      "-9\n",
      "-7\n",
      "-5\n",
      "-3\n",
      "-1\n",
      "1\n",
      "3\n",
      "5\n",
      "7\n",
      "9\n"
     ]
    }
   ],
   "source": [
    "list1=range(-10,10)\n",
    "#list3=list(filter(lambda x:x>0,list1))\n",
    "list2=list(filter(lambda n:n%2!=0,list1))\n",
    "for i in list2:\n",
    "    print(i)"
   ]
  },
  {
   "cell_type": "code",
   "execution_count": 33,
   "id": "954fb53f-a5f1-4c86-9daa-11e4637fee85",
   "metadata": {},
   "outputs": [
    {
     "name": "stdout",
     "output_type": "stream",
     "text": [
      "[1, 4, 9, 16]\n",
      "[1, 8, 27, 64]\n"
     ]
    }
   ],
   "source": [
    "list1=[1,2,3,4]\n",
    "squared=[]\n",
    "cubed=[]\n",
    "for num in list1:\n",
    "    squared.append(num **2)\n",
    "    cubed.append(num **3)\n",
    "print(squared)\n",
    "print(cubed)\n",
    "    "
   ]
  },
  {
   "cell_type": "code",
   "execution_count": 39,
   "id": "f7acfcea-28d8-43fb-ae0e-8269b223735d",
   "metadata": {},
   "outputs": [
    {
     "name": "stdout",
     "output_type": "stream",
     "text": [
      "[1, 4, 9, 16]\n"
     ]
    }
   ],
   "source": [
    "squared=list(map(lambda x:x **2,[1,2,3,4]))\n",
    "print(squared)"
   ]
  },
  {
   "cell_type": "code",
   "execution_count": 41,
   "id": "f7ded097-ffae-427e-a921-9db9ba7181df",
   "metadata": {},
   "outputs": [
    {
     "name": "stdout",
     "output_type": "stream",
     "text": [
      "24\n"
     ]
    }
   ],
   "source": [
    "product=1\n",
    "list=[1,2,3,4]\n",
    "for num in list:\n",
    "    product*= num\n",
    "print(product)"
   ]
  },
  {
   "cell_type": "code",
   "execution_count": 48,
   "id": "fb6d353f-68c7-4623-970b-c54adc3c41d0",
   "metadata": {},
   "outputs": [
    {
     "name": "stdout",
     "output_type": "stream",
     "text": [
      "24\n"
     ]
    }
   ],
   "source": [
    "from functools import reduce\n",
    "list=[1,2,3,4]\n",
    "product =  reduce(lambda x,y: x*y,list)\n",
    "print(product)\n",
    "\n"
   ]
  },
  {
   "cell_type": "code",
   "execution_count": 67,
   "id": "e0d576a5-f31e-4511-98f1-27e053ebbea9",
   "metadata": {},
   "outputs": [
    {
     "name": "stdout",
     "output_type": "stream",
     "text": [
      "Please select operation -\n",
      "1. Add\n",
      "2. Subtraction\n",
      "3. Multiply\n",
      "4. Divide\n",
      "\n"
     ]
    },
    {
     "name": "stdin",
     "output_type": "stream",
     "text": [
      "Select operation (1-4):  4\n",
      "Enter first number:  6\n",
      "Enter second number:  0\n"
     ]
    },
    {
     "name": "stdout",
     "output_type": "stream",
     "text": [
      "cannot divide by zero\n"
     ]
    }
   ],
   "source": [
    "\n",
    "def addition(n1, n2):\n",
    "    return n1 + n2\n",
    "\n",
    "def subtraction(n1, n2):\n",
    "    return n1 - n2\n",
    "\n",
    "def multiplication(n1, n2):\n",
    "    return n1 * n2\n",
    "\n",
    "def division(n1, n2):\n",
    "    if n2==0:\n",
    "        return \"cannot divide by zero\"\n",
    "    return n1 / n2\n",
    "\n",
    "print(\"Please select operation -\\n\"\n",
    "      \"1. Add\\n\"\n",
    "      \"2. Subtraction\\n\"\n",
    "      \"3. Multiply\\n\"\n",
    "      \"4. Divide\\n\")\n",
    "\n",
    "\n",
    "select = int(input(\"Select operation (1-4): \"))\n",
    "    \n",
    "\n",
    "\n",
    "n1 = int(input(\"Enter first number: \"))\n",
    "n2 = int(input(\"Enter second number: \"))\n",
    "\n",
    "if select == 1:\n",
    "    print(addition(n1, n2))\n",
    "elif select == 2:\n",
    "    print(subtraction(n1, n2))\n",
    "elif select == 3:\n",
    "    print(multiplication(n1, n2))\n",
    "elif select == 4:\n",
    "    print(division(n1, n2))\n",
    "else:\n",
    "    print(\"Only Take Integer values\")\n"
   ]
  },
  {
   "cell_type": "code",
   "execution_count": 73,
   "id": "83992480-9877-4ca2-a1b8-e4546a963bf6",
   "metadata": {},
   "outputs": [
    {
     "name": "stdin",
     "output_type": "stream",
     "text": [
      "enter the number of digits needed: 4\n"
     ]
    },
    {
     "name": "stdout",
     "output_type": "stream",
     "text": [
      "1 2 3 5 None\n"
     ]
    }
   ],
   "source": [
    "def fibonocci(num):\n",
    "    n1,n2 = 0,1\n",
    "    for i in range (num):\n",
    "        n3=n1+n2\n",
    "        n1 = n2\n",
    "        n2 = n3\n",
    "        print(n3,end=\" \")\n",
    "n=int(input(\"enter the number of digits needed:\"))\n",
    "print(fibonocci(num))"
   ]
  },
  {
   "cell_type": "code",
   "execution_count": 89,
   "id": "3e4ed759-961f-4878-b6f7-889da3f0f396",
   "metadata": {},
   "outputs": [
    {
     "data": {
      "text/plain": [
       "9"
      ]
     },
     "execution_count": 89,
     "metadata": {},
     "output_type": "execute_result"
    }
   ],
   "source": [
    "#def say(x=1,y =7):\n",
    "#def say(x,y):\n",
    "#def say(x=4,y,z=2):\n",
    "    prod=x+y\n",
    "    return prod\n",
    "say(2,7)"
   ]
  },
  {
   "cell_type": "code",
   "execution_count": 90,
   "id": "4d6f54f2-dae7-4e17-88df-acf114ebc97d",
   "metadata": {},
   "outputs": [
    {
     "data": {
      "text/plain": [
       "8"
      ]
     },
     "execution_count": 90,
     "metadata": {},
     "output_type": "execute_result"
    }
   ],
   "source": [
    "def say(y,x=4,z=2):\n",
    "    prod=x+y+z\n",
    "    return prod\n",
    "say(2)"
   ]
  },
  {
   "cell_type": "code",
   "execution_count": 91,
   "id": "e6f420d4-5f0e-4f45-8e27-89721b368ceb",
   "metadata": {},
   "outputs": [
    {
     "data": {
      "text/plain": [
       "6"
      ]
     },
     "execution_count": 91,
     "metadata": {},
     "output_type": "execute_result"
    }
   ],
   "source": [
    "def say(x,y,z):\n",
    "    prod=x+y+z\n",
    "    return prod\n",
    "say(1,2,3)"
   ]
  },
  {
   "cell_type": "code",
   "execution_count": 96,
   "id": "1c3f99c0-2796-4137-8c0a-3f6cde617d28",
   "metadata": {},
   "outputs": [
    {
     "data": {
      "text/plain": [
       "'C:\\\\Users\\\\Administrator'"
      ]
     },
     "execution_count": 96,
     "metadata": {},
     "output_type": "execute_result"
    }
   ],
   "source": [
    "import os\n",
    "os.getcwd()\n"
   ]
  },
  {
   "cell_type": "code",
   "execution_count": 94,
   "id": "80dedfec-bb2b-43f6-9359-6d3d4ef1a8b0",
   "metadata": {},
   "outputs": [],
   "source": [
    "os.getenv(\"Home\")"
   ]
  },
  {
   "cell_type": "code",
   "execution_count": 73,
   "id": "9a413f2c-80b0-496e-bfea-884500b56a32",
   "metadata": {},
   "outputs": [
    {
     "data": {
      "text/plain": [
       "41"
      ]
     },
     "execution_count": 73,
     "metadata": {},
     "output_type": "execute_result"
    }
   ],
   "source": [
    "import os\n",
    "\n",
    "os.getenv(\"C:\\\\Users\\\\Administrator\")\n",
    "lst=open(\"my3.txt\",\"w\")\n",
    "lst.write(\"this is safa.\\n\")\n",
    "lst.write(\" i am from malappuram now working at UST \")\n",
    "lst.close()"
   ]
  },
  {
   "cell_type": "code",
   "execution_count": 122,
   "id": "a35b689d-ae0f-410e-9dda-16e38453023b",
   "metadata": {},
   "outputs": [
    {
     "data": {
      "text/plain": [
       "'this is safa.\\n i am from malappuram now working at UST '"
      ]
     },
     "execution_count": 122,
     "metadata": {},
     "output_type": "execute_result"
    }
   ],
   "source": [
    "lst=open(\"my3.txt\",\"r\")\n",
    "lst.read()"
   ]
  },
  {
   "cell_type": "code",
   "execution_count": 123,
   "id": "1a5becd8-f1b2-4120-baa1-df93827e99df",
   "metadata": {},
   "outputs": [
    {
     "data": {
      "text/plain": [
       "'this '"
      ]
     },
     "execution_count": 123,
     "metadata": {},
     "output_type": "execute_result"
    }
   ],
   "source": [
    "lst=open(\"my3.txt\",\"r\")\n",
    "lst.read(5)"
   ]
  },
  {
   "cell_type": "code",
   "execution_count": 124,
   "id": "32847e0c-16a3-4649-88a5-96d5c999c6a9",
   "metadata": {},
   "outputs": [
    {
     "data": {
      "text/plain": [
       "5"
      ]
     },
     "execution_count": 124,
     "metadata": {},
     "output_type": "execute_result"
    }
   ],
   "source": [
    "lst.tell()#it will tell you the pointer position"
   ]
  },
  {
   "cell_type": "code",
   "execution_count": 125,
   "id": "9497eaf9-580c-4f86-89a0-a3ac174fdf5c",
   "metadata": {},
   "outputs": [
    {
     "data": {
      "text/plain": [
       "3"
      ]
     },
     "execution_count": 125,
     "metadata": {},
     "output_type": "execute_result"
    }
   ],
   "source": [
    "lst.seek(3)#it will set again the pointer position to initial position"
   ]
  },
  {
   "cell_type": "code",
   "execution_count": 126,
   "id": "7379a6a0-25d8-4b14-aa83-23a070d96340",
   "metadata": {},
   "outputs": [
    {
     "name": "stdout",
     "output_type": "stream",
     "text": [
      "s is safa.\n",
      " i am from malappuram now working at UST \n"
     ]
    }
   ],
   "source": [
    "print(lst.read())"
   ]
  },
  {
   "cell_type": "code",
   "execution_count": 127,
   "id": "c1a6cdab-4dd5-4d8c-a7d4-7bf95fcb19cd",
   "metadata": {},
   "outputs": [
    {
     "name": "stdout",
     "output_type": "stream",
     "text": [
      "this is safa.\n",
      "\n",
      " i am from malappuram now working at UST \n"
     ]
    }
   ],
   "source": [
    "lst.seek(0)\n",
    "for line in lst:\n",
    "    print(line)"
   ]
  },
  {
   "cell_type": "code",
   "execution_count": 128,
   "id": "5777abde-04dc-4b94-bdf7-2d9ce6f54535",
   "metadata": {},
   "outputs": [
    {
     "data": {
      "text/plain": [
       "'this is safa.\\n'"
      ]
     },
     "execution_count": 128,
     "metadata": {},
     "output_type": "execute_result"
    }
   ],
   "source": [
    "lst = open(\"my3.txt\",\"r\")\n",
    "lst.readline()"
   ]
  },
  {
   "cell_type": "code",
   "execution_count": 134,
   "id": "d0a193c5-c221-4f8a-b9b2-3862cb83d11d",
   "metadata": {},
   "outputs": [],
   "source": [
    "lst.readline()\n",
    "lst.close()"
   ]
  },
  {
   "cell_type": "code",
   "execution_count": 135,
   "id": "8a9354e8-d193-4af0-b938-91a468e0cc98",
   "metadata": {},
   "outputs": [],
   "source": [
    "#renaming and deleting\n",
    " \n",
    "os.rename(\"my3.txt\",\"test.txt\")"
   ]
  },
  {
   "cell_type": "code",
   "execution_count": 137,
   "id": "d4dbb342-99e4-4355-879e-a02fa090d909",
   "metadata": {},
   "outputs": [
    {
     "data": {
      "text/plain": [
       "'this is safa.\\n'"
      ]
     },
     "execution_count": 137,
     "metadata": {},
     "output_type": "execute_result"
    }
   ],
   "source": [
    "lst = open(\"test.txt\",\"r\")\n",
    "lst.readline()"
   ]
  },
  {
   "cell_type": "code",
   "execution_count": 150,
   "id": "deb4a208-e2eb-41d6-bff0-de58b1a01981",
   "metadata": {},
   "outputs": [
    {
     "data": {
      "text/plain": [
       "'c:\\\\Users\\\\Administrator\\\\Downloads'"
      ]
     },
     "execution_count": 150,
     "metadata": {},
     "output_type": "execute_result"
    }
   ],
   "source": [
    "#python directory & file management\n",
    "os.getcwd()"
   ]
  },
  {
   "cell_type": "code",
   "execution_count": 149,
   "id": "9a19b49a-14fb-40a0-9e1b-7d5167773c2d",
   "metadata": {},
   "outputs": [
    {
     "data": {
      "text/plain": [
       "[b'desktop.ini', b'ds']"
      ]
     },
     "execution_count": 149,
     "metadata": {},
     "output_type": "execute_result"
    }
   ],
   "source": [
    "os.chdir(\"c:\\\\Users\\\\Administrator\\\\Downloads\") #change directory,give its path\n",
    "os.getcwd()\n",
    "os.listdir(os.getcwdb())"
   ]
  },
  {
   "cell_type": "code",
   "execution_count": null,
   "id": "3745df5a-ae8c-43fa-97ce-574128173f2b",
   "metadata": {},
   "outputs": [],
   "source": [
    "os.mkdir(\"UST\")\n"
   ]
  },
  {
   "cell_type": "code",
   "execution_count": 151,
   "id": "b06a5a90-9816-4315-9165-486fff236093",
   "metadata": {},
   "outputs": [
    {
     "data": {
      "text/plain": [
       "[b'desktop.ini', b'ds']"
      ]
     },
     "execution_count": 151,
     "metadata": {},
     "output_type": "execute_result"
    }
   ],
   "source": [
    "os.listdir(os.getcwdb())"
   ]
  },
  {
   "cell_type": "code",
   "execution_count": 22,
   "id": "5b498dae-ad13-450b-8db0-02ff916d51b1",
   "metadata": {},
   "outputs": [
    {
     "ename": "FileExistsError",
     "evalue": "[WinError 183] Cannot create a file when that file already exists: 'Company'",
     "output_type": "error",
     "traceback": [
      "\u001b[31m---------------------------------------------------------------------------\u001b[39m",
      "\u001b[31mFileExistsError\u001b[39m                           Traceback (most recent call last)",
      "\u001b[36mCell\u001b[39m\u001b[36m \u001b[39m\u001b[32mIn[22]\u001b[39m\u001b[32m, line 1\u001b[39m\n\u001b[32m----> \u001b[39m\u001b[32m1\u001b[39m \u001b[43mos\u001b[49m\u001b[43m.\u001b[49m\u001b[43mmkdir\u001b[49m\u001b[43m(\u001b[49m\u001b[33;43m\"\u001b[39;49m\u001b[33;43mCompany\u001b[39;49m\u001b[33;43m\"\u001b[39;49m\u001b[43m)\u001b[49m\n\u001b[32m      2\u001b[39m os.chdir(\u001b[33m\"\u001b[39m\u001b[33mC:\u001b[39m\u001b[38;5;130;01m\\\\\u001b[39;00m\u001b[33mUsers\u001b[39m\u001b[38;5;130;01m\\\\\u001b[39;00m\u001b[33mAdministrator\u001b[39m\u001b[38;5;130;01m\\\\\u001b[39;00m\u001b[33mDownloads\u001b[39m\u001b[38;5;130;01m\\\\\u001b[39;00m\u001b[33mCompany\u001b[39m\u001b[33m\"\u001b[39m)\n",
      "\u001b[31mFileExistsError\u001b[39m: [WinError 183] Cannot create a file when that file already exists: 'Company'"
     ]
    }
   ],
   "source": [
    "os.mkdir(\"Company\")\n",
    "os.chdir(\"C:\\\\Users\\\\Administrator\\\\Downloads\")"
   ]
  },
  {
   "cell_type": "code",
   "execution_count": 9,
   "id": "548978c8-dcc3-4983-beb7-eb04b3262fb7",
   "metadata": {},
   "outputs": [],
   "source": [
    "first=open(\"ust.txt\",\"w\")\n",
    "first.write(\"this is safa.\\n\")\n",
    "first.write(\" i am from malappuram now working at UST \")\n",
    "first.close()"
   ]
  },
  {
   "cell_type": "code",
   "execution_count": 12,
   "id": "03a38d49-eec8-482d-8fad-d7c242f253d6",
   "metadata": {},
   "outputs": [
    {
     "data": {
      "text/plain": [
       "'this is safa.\\n i am from malappuram now working at UST '"
      ]
     },
     "execution_count": 12,
     "metadata": {},
     "output_type": "execute_result"
    }
   ],
   "source": [
    "first=open(\"ust.txt\",\"r\")\n",
    "first.read()"
   ]
  },
  {
   "cell_type": "code",
   "execution_count": 23,
   "id": "92f5e0f9-b147-4315-9bb2-d3014b9d6545",
   "metadata": {},
   "outputs": [
    {
     "data": {
      "text/plain": [
       "'C:\\\\Users\\\\Administrator\\\\Desktop'"
      ]
     },
     "execution_count": 23,
     "metadata": {},
     "output_type": "execute_result"
    }
   ],
   "source": [
    "os.chdir(\"C:\\\\Users\\\\Administrator\\\\Desktop\") #change directory,give its path\n",
    "# first = open(\"top.txt\",\"w\")\n",
    "# first.write(\"hi..\\n\")\n",
    "# first.close()\n",
    "os.getcwd()\n"
   ]
  },
  {
   "cell_type": "code",
   "execution_count": 25,
   "id": "39dff04d-8c49-4a24-925a-56570c340f36",
   "metadata": {},
   "outputs": [
    {
     "ename": "FileNotFoundError",
     "evalue": "[WinError 3] The system cannot find the path specified: 'C:\\\\Users\\\\Administrator\\\\Downloads\\\\Company'",
     "output_type": "error",
     "traceback": [
      "\u001b[31m---------------------------------------------------------------------------\u001b[39m",
      "\u001b[31mFileNotFoundError\u001b[39m                         Traceback (most recent call last)",
      "\u001b[36mCell\u001b[39m\u001b[36m \u001b[39m\u001b[32mIn[25]\u001b[39m\u001b[32m, line 2\u001b[39m\n\u001b[32m      1\u001b[39m \u001b[38;5;28;01mimport\u001b[39;00m\u001b[38;5;250m \u001b[39m\u001b[34;01mshutil\u001b[39;00m\n\u001b[32m----> \u001b[39m\u001b[32m2\u001b[39m \u001b[43mshutil\u001b[49m\u001b[43m.\u001b[49m\u001b[43mrmtree\u001b[49m\u001b[43m(\u001b[49m\u001b[33;43m\"\u001b[39;49m\u001b[33;43mC:\u001b[39;49m\u001b[38;5;130;43;01m\\\\\u001b[39;49;00m\u001b[33;43mUsers\u001b[39;49m\u001b[38;5;130;43;01m\\\\\u001b[39;49;00m\u001b[33;43mAdministrator\u001b[39;49m\u001b[38;5;130;43;01m\\\\\u001b[39;49;00m\u001b[33;43mDownloads\u001b[39;49m\u001b[38;5;130;43;01m\\\\\u001b[39;49;00m\u001b[33;43mCompany\u001b[39;49m\u001b[33;43m\"\u001b[39;49m\u001b[43m)\u001b[49m\n",
      "\u001b[36mFile \u001b[39m\u001b[32mC:\\Program Files\\Python311\\Lib\\shutil.py:758\u001b[39m, in \u001b[36mrmtree\u001b[39m\u001b[34m(path, ignore_errors, onerror, dir_fd)\u001b[39m\n\u001b[32m    756\u001b[39m     \u001b[38;5;66;03m# can't continue even if onerror hook returns\u001b[39;00m\n\u001b[32m    757\u001b[39m     \u001b[38;5;28;01mreturn\u001b[39;00m\n\u001b[32m--> \u001b[39m\u001b[32m758\u001b[39m \u001b[38;5;28;01mreturn\u001b[39;00m \u001b[43m_rmtree_unsafe\u001b[49m\u001b[43m(\u001b[49m\u001b[43mpath\u001b[49m\u001b[43m,\u001b[49m\u001b[43m \u001b[49m\u001b[43monerror\u001b[49m\u001b[43m)\u001b[49m\n",
      "\u001b[36mFile \u001b[39m\u001b[32mC:\\Program Files\\Python311\\Lib\\shutil.py:602\u001b[39m, in \u001b[36m_rmtree_unsafe\u001b[39m\u001b[34m(path, onerror)\u001b[39m\n\u001b[32m    600\u001b[39m         entries = \u001b[38;5;28mlist\u001b[39m(scandir_it)\n\u001b[32m    601\u001b[39m \u001b[38;5;28;01mexcept\u001b[39;00m \u001b[38;5;167;01mOSError\u001b[39;00m:\n\u001b[32m--> \u001b[39m\u001b[32m602\u001b[39m     \u001b[43monerror\u001b[49m\u001b[43m(\u001b[49m\u001b[43mos\u001b[49m\u001b[43m.\u001b[49m\u001b[43mscandir\u001b[49m\u001b[43m,\u001b[49m\u001b[43m \u001b[49m\u001b[43mpath\u001b[49m\u001b[43m,\u001b[49m\u001b[43m \u001b[49m\u001b[43msys\u001b[49m\u001b[43m.\u001b[49m\u001b[43mexc_info\u001b[49m\u001b[43m(\u001b[49m\u001b[43m)\u001b[49m\u001b[43m)\u001b[49m\n\u001b[32m    603\u001b[39m     entries = []\n\u001b[32m    604\u001b[39m \u001b[38;5;28;01mfor\u001b[39;00m entry \u001b[38;5;129;01min\u001b[39;00m entries:\n",
      "\u001b[36mFile \u001b[39m\u001b[32mC:\\Program Files\\Python311\\Lib\\shutil.py:599\u001b[39m, in \u001b[36m_rmtree_unsafe\u001b[39m\u001b[34m(path, onerror)\u001b[39m\n\u001b[32m    597\u001b[39m \u001b[38;5;28;01mdef\u001b[39;00m\u001b[38;5;250m \u001b[39m\u001b[34m_rmtree_unsafe\u001b[39m(path, onerror):\n\u001b[32m    598\u001b[39m     \u001b[38;5;28;01mtry\u001b[39;00m:\n\u001b[32m--> \u001b[39m\u001b[32m599\u001b[39m         \u001b[38;5;28;01mwith\u001b[39;00m os.scandir(path) \u001b[38;5;28;01mas\u001b[39;00m scandir_it:\n\u001b[32m    600\u001b[39m             entries = \u001b[38;5;28mlist\u001b[39m(scandir_it)\n\u001b[32m    601\u001b[39m     \u001b[38;5;28;01mexcept\u001b[39;00m \u001b[38;5;167;01mOSError\u001b[39;00m:\n",
      "\u001b[31mFileNotFoundError\u001b[39m: [WinError 3] The system cannot find the path specified: 'C:\\\\Users\\\\Administrator\\\\Downloads\\\\Company'"
     ]
    }
   ],
   "source": [
    "import shutil\n",
    "shutil.rmtree(\"C:\\\\Users\\\\Administrator\\\\Downloads\\\\Company\")"
   ]
  },
  {
   "cell_type": "code",
   "execution_count": 26,
   "id": "410793fe-19b5-4912-84ac-715e61effb1f",
   "metadata": {},
   "outputs": [
    {
     "data": {
      "text/plain": [
       "[b'Company', b'desktop.ini', b'New folder', b'Readme - Shortcut.lnk']"
      ]
     },
     "execution_count": 26,
     "metadata": {},
     "output_type": "execute_result"
    }
   ],
   "source": [
    "os.listdir(os.getcwdb())"
   ]
  },
  {
   "cell_type": "code",
   "execution_count": 27,
   "id": "36fb8d56-41ee-4abb-b44f-5908a5def5c9",
   "metadata": {},
   "outputs": [
    {
     "ename": "FileNotFoundError",
     "evalue": "[WinError 3] The system cannot find the path specified: 'C:\\\\Users\\\\Administrator\\\\Downloads\\\\Company'",
     "output_type": "error",
     "traceback": [
      "\u001b[31m---------------------------------------------------------------------------\u001b[39m",
      "\u001b[31mFileNotFoundError\u001b[39m                         Traceback (most recent call last)",
      "\u001b[36mCell\u001b[39m\u001b[36m \u001b[39m\u001b[32mIn[27]\u001b[39m\u001b[32m, line 2\u001b[39m\n\u001b[32m      1\u001b[39m \u001b[38;5;28;01mimport\u001b[39;00m\u001b[38;5;250m \u001b[39m\u001b[34;01mshutil\u001b[39;00m\n\u001b[32m----> \u001b[39m\u001b[32m2\u001b[39m \u001b[43mshutil\u001b[49m\u001b[43m.\u001b[49m\u001b[43mrmtree\u001b[49m\u001b[43m(\u001b[49m\u001b[33;43m\"\u001b[39;49m\u001b[33;43mC:\u001b[39;49m\u001b[38;5;130;43;01m\\\\\u001b[39;49;00m\u001b[33;43mUsers\u001b[39;49m\u001b[38;5;130;43;01m\\\\\u001b[39;49;00m\u001b[33;43mAdministrator\u001b[39;49m\u001b[38;5;130;43;01m\\\\\u001b[39;49;00m\u001b[33;43mDownloads\u001b[39;49m\u001b[38;5;130;43;01m\\\\\u001b[39;49;00m\u001b[33;43mCompany\u001b[39;49m\u001b[33;43m\"\u001b[39;49m\u001b[43m)\u001b[49m\n",
      "\u001b[36mFile \u001b[39m\u001b[32mC:\\Program Files\\Python311\\Lib\\shutil.py:758\u001b[39m, in \u001b[36mrmtree\u001b[39m\u001b[34m(path, ignore_errors, onerror, dir_fd)\u001b[39m\n\u001b[32m    756\u001b[39m     \u001b[38;5;66;03m# can't continue even if onerror hook returns\u001b[39;00m\n\u001b[32m    757\u001b[39m     \u001b[38;5;28;01mreturn\u001b[39;00m\n\u001b[32m--> \u001b[39m\u001b[32m758\u001b[39m \u001b[38;5;28;01mreturn\u001b[39;00m \u001b[43m_rmtree_unsafe\u001b[49m\u001b[43m(\u001b[49m\u001b[43mpath\u001b[49m\u001b[43m,\u001b[49m\u001b[43m \u001b[49m\u001b[43monerror\u001b[49m\u001b[43m)\u001b[49m\n",
      "\u001b[36mFile \u001b[39m\u001b[32mC:\\Program Files\\Python311\\Lib\\shutil.py:602\u001b[39m, in \u001b[36m_rmtree_unsafe\u001b[39m\u001b[34m(path, onerror)\u001b[39m\n\u001b[32m    600\u001b[39m         entries = \u001b[38;5;28mlist\u001b[39m(scandir_it)\n\u001b[32m    601\u001b[39m \u001b[38;5;28;01mexcept\u001b[39;00m \u001b[38;5;167;01mOSError\u001b[39;00m:\n\u001b[32m--> \u001b[39m\u001b[32m602\u001b[39m     \u001b[43monerror\u001b[49m\u001b[43m(\u001b[49m\u001b[43mos\u001b[49m\u001b[43m.\u001b[49m\u001b[43mscandir\u001b[49m\u001b[43m,\u001b[49m\u001b[43m \u001b[49m\u001b[43mpath\u001b[49m\u001b[43m,\u001b[49m\u001b[43m \u001b[49m\u001b[43msys\u001b[49m\u001b[43m.\u001b[49m\u001b[43mexc_info\u001b[49m\u001b[43m(\u001b[49m\u001b[43m)\u001b[49m\u001b[43m)\u001b[49m\n\u001b[32m    603\u001b[39m     entries = []\n\u001b[32m    604\u001b[39m \u001b[38;5;28;01mfor\u001b[39;00m entry \u001b[38;5;129;01min\u001b[39;00m entries:\n",
      "\u001b[36mFile \u001b[39m\u001b[32mC:\\Program Files\\Python311\\Lib\\shutil.py:599\u001b[39m, in \u001b[36m_rmtree_unsafe\u001b[39m\u001b[34m(path, onerror)\u001b[39m\n\u001b[32m    597\u001b[39m \u001b[38;5;28;01mdef\u001b[39;00m\u001b[38;5;250m \u001b[39m\u001b[34m_rmtree_unsafe\u001b[39m(path, onerror):\n\u001b[32m    598\u001b[39m     \u001b[38;5;28;01mtry\u001b[39;00m:\n\u001b[32m--> \u001b[39m\u001b[32m599\u001b[39m         \u001b[38;5;28;01mwith\u001b[39;00m os.scandir(path) \u001b[38;5;28;01mas\u001b[39;00m scandir_it:\n\u001b[32m    600\u001b[39m             entries = \u001b[38;5;28mlist\u001b[39m(scandir_it)\n\u001b[32m    601\u001b[39m     \u001b[38;5;28;01mexcept\u001b[39;00m \u001b[38;5;167;01mOSError\u001b[39;00m:\n",
      "\u001b[31mFileNotFoundError\u001b[39m: [WinError 3] The system cannot find the path specified: 'C:\\\\Users\\\\Administrator\\\\Downloads\\\\Company'"
     ]
    }
   ],
   "source": [
    "import shutil\n",
    "shutil.rmtree(\"C:\\\\Users\\\\Administrator\\\\Downloads\\\\Company\")"
   ]
  },
  {
   "cell_type": "code",
   "execution_count": 28,
   "id": "d4b01910-e82c-47cf-a96a-bc81ad0330d7",
   "metadata": {},
   "outputs": [
    {
     "data": {
      "text/plain": [
       "'C:\\\\Users\\\\Administrator\\\\Desktop'"
      ]
     },
     "execution_count": 28,
     "metadata": {},
     "output_type": "execute_result"
    }
   ],
   "source": [
    "# os.chdir(\"C:\\\\Users\\\\Administrator\\\\Downloads\")\n",
    "# os.mkdir(\"Training\")\n",
    "os.getcwd()"
   ]
  },
  {
   "cell_type": "code",
   "execution_count": 48,
   "id": "16836713-315c-40c6-9ee5-38ef3761f026",
   "metadata": {},
   "outputs": [],
   "source": [
    "os.chdir(\"C:\\\\Users\\\\Administrator\\\\Downloads\")\n",
    "os.mkdir(\"COMPANY\")\n",
    "\n"
   ]
  },
  {
   "cell_type": "code",
   "execution_count": 50,
   "id": "59aa12a2-7ef0-468d-a828-1deaed03d64b",
   "metadata": {},
   "outputs": [],
   "source": [
    "os.chdir(\"C:\\\\Users\\\\Administrator\\\\Downloads\\\\COMPANY\")"
   ]
  },
  {
   "cell_type": "code",
   "execution_count": 51,
   "id": "f837203e-9cbe-405e-94f5-170fb8610a4b",
   "metadata": {},
   "outputs": [],
   "source": [
    "first=open(\"company.txt\",\"w\")\n",
    "first.write(\"this is safa.\\n\")\n",
    "first.write(\" i am from malappuram now working at UST \")\n",
    "first.close()"
   ]
  },
  {
   "cell_type": "code",
   "execution_count": 52,
   "id": "dde14bae-7014-4380-9f7c-18c14f670976",
   "metadata": {},
   "outputs": [],
   "source": [
    "first=open(\"company.txt\",\"r\")\n",
    "first.read()\n",
    "first.close()"
   ]
  },
  {
   "cell_type": "code",
   "execution_count": 53,
   "id": "9bfc9389-4e64-469a-bc42-9b0ccedd1aab",
   "metadata": {},
   "outputs": [],
   "source": [
    "os.chdir(\"C:\\\\Users\\\\Administrator\\\\Downloads\")"
   ]
  },
  {
   "cell_type": "code",
   "execution_count": 54,
   "id": "f326e307-b606-4405-866b-2193589f4f8b",
   "metadata": {},
   "outputs": [
    {
     "data": {
      "text/plain": [
       "'C:\\\\Users\\\\Administrator\\\\Downloads'"
      ]
     },
     "execution_count": 54,
     "metadata": {},
     "output_type": "execute_result"
    }
   ],
   "source": [
    "os.getcwd()"
   ]
  },
  {
   "cell_type": "code",
   "execution_count": 55,
   "id": "6bdb6349-daea-434f-9ebe-a26cb63f8296",
   "metadata": {},
   "outputs": [],
   "source": [
    "import shutil\n",
    "shutil.rmtree(\"C:\\\\Users\\\\Administrator\\\\Downloads\\\\COMPANY\")"
   ]
  },
  {
   "cell_type": "code",
   "execution_count": 56,
   "id": "228632a8-9a56-46e8-b550-4717eaff0a67",
   "metadata": {},
   "outputs": [
    {
     "data": {
      "text/plain": [
       "[b'SAFA', b'Training', b'ust.txt']"
      ]
     },
     "execution_count": 56,
     "metadata": {},
     "output_type": "execute_result"
    }
   ],
   "source": [
    "os.listdir(os.getcwdb())"
   ]
  },
  {
   "cell_type": "code",
   "execution_count": 75,
   "id": "d5a7d9fd-61fe-4e77-8172-bb7a0e2ed241",
   "metadata": {},
   "outputs": [
    {
     "name": "stdout",
     "output_type": "stream",
     "text": [
      "value is: b\n",
      "Oops!!!.. (<class 'ValueError'>, ValueError(\"invalid literal for int() with base 10: 'b'\"), <traceback object at 0x000001B192E6E140>) occured.\n",
      "next entry.\n",
      "*********\n",
      "value is: 0\n",
      "Oops!!!.. (<class 'ZeroDivisionError'>, ZeroDivisionError('division by zero'), <traceback object at 0x000001B192E6C380>) occured.\n",
      "next entry.\n",
      "*********\n",
      "value is: 2\n",
      "The reciprocal of 2 is 0.5\n"
     ]
    }
   ],
   "source": [
    "import sys#TO FIND THE TYPE OF EXCEPTION\n",
    "lst = ['b',0,2]\n",
    "for entry in lst:\n",
    "    try:\n",
    "        \n",
    "        print(\"value is:\",entry)\n",
    "        k=1/int(entry)\n",
    "    except:\n",
    "        print(\"Oops!!!..\",sys.exc_info(),\"occured.\")#exc_info()iS A LIBRARY WILL GIVE YOU THE INFORMATION ABT THE TYPE OF ERROR.\n",
    "        print(\"next entry.\")\n",
    "        print(\"*********\")\n",
    "print(\"The reciprocal of\", entry,\"is\",k)"
   ]
  },
  {
   "cell_type": "code",
   "execution_count": 61,
   "id": "1b5d4f32-e277-450f-9a2d-e447a2354421",
   "metadata": {},
   "outputs": [
    {
     "name": "stdout",
     "output_type": "stream",
     "text": [
      "value is: b\n",
      "this is value error\n",
      "value is: 0\n",
      "this is zero division error.\n",
      "value is: 2\n",
      "The reciprocal of 2 is 0.5\n"
     ]
    }
   ],
   "source": [
    "import sys#TO FIND THE TYPE OF EXCEPTION,this is not a good practice use exc_info()for all kind of errors.\n",
    "lst = ['b',0,2]\n",
    "for entry in lst:\n",
    "    try:\n",
    "        \n",
    "        print(\"value is:\",entry)\n",
    "        k=1/int(entry)\n",
    "    except(ValueError):\n",
    "        print(\"this is value error\")\n",
    "    except(ZeroDivisionError):\n",
    "        print(\"this is zero division error.\")\n",
    "    except:\n",
    "        print(\"other error\")\n",
    "print(\"The reciprocal of\", entry,\"is\",k)"
   ]
  },
  {
   "cell_type": "code",
   "execution_count": 65,
   "id": "e43cd75c-87e7-4738-80be-43aa73b51c16",
   "metadata": {},
   "outputs": [
    {
     "name": "stdout",
     "output_type": "stream",
     "text": [
      "final closed\n"
     ]
    },
    {
     "ename": "FileNotFoundError",
     "evalue": "[Errno 2] No such file or directory: 'us.txt'",
     "output_type": "error",
     "traceback": [
      "\u001b[31m---------------------------------------------------------------------------\u001b[39m",
      "\u001b[31mFileNotFoundError\u001b[39m                         Traceback (most recent call last)",
      "\u001b[36mCell\u001b[39m\u001b[36m \u001b[39m\u001b[32mIn[65]\u001b[39m\u001b[32m, line 4\u001b[39m\n\u001b[32m      2\u001b[39m os.chdir(\u001b[33m'\u001b[39m\u001b[33mC:\u001b[39m\u001b[38;5;130;01m\\\\\u001b[39;00m\u001b[33mUsers\u001b[39m\u001b[38;5;130;01m\\\\\u001b[39;00m\u001b[33mAdministrator\u001b[39m\u001b[33m'\u001b[39m)\n\u001b[32m      3\u001b[39m \u001b[38;5;28;01mtry\u001b[39;00m:\n\u001b[32m----> \u001b[39m\u001b[32m4\u001b[39m     f=\u001b[38;5;28;43mopen\u001b[39;49m\u001b[43m(\u001b[49m\u001b[33;43m'\u001b[39;49m\u001b[33;43mus.txt\u001b[39;49m\u001b[33;43m'\u001b[39;49m\u001b[43m)\u001b[49m\n\u001b[32m      5\u001b[39m \u001b[38;5;28;01mfinally\u001b[39;00m:\n\u001b[32m      6\u001b[39m     \u001b[38;5;28mprint\u001b[39m(\u001b[33m\"\u001b[39m\u001b[33mfinal closed\u001b[39m\u001b[33m\"\u001b[39m)\n",
      "\u001b[36mFile \u001b[39m\u001b[32mC:\\Program Files\\Python311\\Lib\\site-packages\\IPython\\core\\interactiveshell.py:326\u001b[39m, in \u001b[36m_modified_open\u001b[39m\u001b[34m(file, *args, **kwargs)\u001b[39m\n\u001b[32m    319\u001b[39m \u001b[38;5;28;01mif\u001b[39;00m file \u001b[38;5;129;01min\u001b[39;00m {\u001b[32m0\u001b[39m, \u001b[32m1\u001b[39m, \u001b[32m2\u001b[39m}:\n\u001b[32m    320\u001b[39m     \u001b[38;5;28;01mraise\u001b[39;00m \u001b[38;5;167;01mValueError\u001b[39;00m(\n\u001b[32m    321\u001b[39m         \u001b[33mf\u001b[39m\u001b[33m\"\u001b[39m\u001b[33mIPython won\u001b[39m\u001b[33m'\u001b[39m\u001b[33mt let you open fd=\u001b[39m\u001b[38;5;132;01m{\u001b[39;00mfile\u001b[38;5;132;01m}\u001b[39;00m\u001b[33m by default \u001b[39m\u001b[33m\"\u001b[39m\n\u001b[32m    322\u001b[39m         \u001b[33m\"\u001b[39m\u001b[33mas it is likely to crash IPython. If you know what you are doing, \u001b[39m\u001b[33m\"\u001b[39m\n\u001b[32m    323\u001b[39m         \u001b[33m\"\u001b[39m\u001b[33myou can use builtins\u001b[39m\u001b[33m'\u001b[39m\u001b[33m open.\u001b[39m\u001b[33m\"\u001b[39m\n\u001b[32m    324\u001b[39m     )\n\u001b[32m--> \u001b[39m\u001b[32m326\u001b[39m \u001b[38;5;28;01mreturn\u001b[39;00m \u001b[43mio_open\u001b[49m\u001b[43m(\u001b[49m\u001b[43mfile\u001b[49m\u001b[43m,\u001b[49m\u001b[43m \u001b[49m\u001b[43m*\u001b[49m\u001b[43margs\u001b[49m\u001b[43m,\u001b[49m\u001b[43m \u001b[49m\u001b[43m*\u001b[49m\u001b[43m*\u001b[49m\u001b[43mkwargs\u001b[49m\u001b[43m)\u001b[49m\n",
      "\u001b[31mFileNotFoundError\u001b[39m: [Errno 2] No such file or directory: 'us.txt'"
     ]
    }
   ],
   "source": [
    "import os\n",
    "os.chdir('C:\\\\Users\\\\Administrator')\n",
    "try:\n",
    "    f=open('us.txt')\n",
    "finally:\n",
    "    print(\"final closed\")\n",
    "    f.close()"
   ]
  },
  {
   "cell_type": "code",
   "execution_count": 72,
   "id": "8ca566a7-355a-42bb-a53c-75d0a4da2395",
   "metadata": {},
   "outputs": [
    {
     "name": "stderr",
     "output_type": "stream",
     "text": [
      "ERROR:root:an error occured\n"
     ]
    }
   ],
   "source": [
    "import logging\n",
    "try:\n",
    "    f=open('us.txt')\n",
    "except:\n",
    "    logging.error(\"an error occured\")"
   ]
  },
  {
   "cell_type": "code",
   "execution_count": 69,
   "id": "7e4adced-fe7b-4696-acc3-6a2c443d650a",
   "metadata": {},
   "outputs": [],
   "source": [
    "import logging\n",
    "logging.basicConfig(level=logging.INFO)\n",
    "logging.debug\n"
   ]
  },
  {
   "cell_type": "code",
   "execution_count": 80,
   "id": "968f4254-4acf-41ad-bfd2-8cfef48a5ece",
   "metadata": {},
   "outputs": [
    {
     "data": {
      "text/html": [
       "<div>\n",
       "<style scoped>\n",
       "    .dataframe tbody tr th:only-of-type {\n",
       "        vertical-align: middle;\n",
       "    }\n",
       "\n",
       "    .dataframe tbody tr th {\n",
       "        vertical-align: top;\n",
       "    }\n",
       "\n",
       "    .dataframe thead th {\n",
       "        text-align: right;\n",
       "    }\n",
       "</style>\n",
       "<table border=\"1\" class=\"dataframe\">\n",
       "  <thead>\n",
       "    <tr style=\"text-align: right;\">\n",
       "      <th></th>\n",
       "      <th>EST</th>\n",
       "      <th>Temperature</th>\n",
       "      <th>DewPoint</th>\n",
       "      <th>Humidity</th>\n",
       "      <th>Sea Level PressureIn</th>\n",
       "      <th>VisibilityMiles</th>\n",
       "      <th>WindSpeedMPH</th>\n",
       "      <th>PrecipitationIn</th>\n",
       "      <th>CloudCover</th>\n",
       "      <th>Events</th>\n",
       "      <th>WindDirDegrees</th>\n",
       "    </tr>\n",
       "  </thead>\n",
       "  <tbody>\n",
       "    <tr>\n",
       "      <th>1</th>\n",
       "      <td>1/2/2016</td>\n",
       "      <td>36</td>\n",
       "      <td>18</td>\n",
       "      <td>46</td>\n",
       "      <td>30.02</td>\n",
       "      <td>10</td>\n",
       "      <td>7.0</td>\n",
       "      <td>0</td>\n",
       "      <td>3</td>\n",
       "      <td>NaN</td>\n",
       "      <td>275</td>\n",
       "    </tr>\n",
       "    <tr>\n",
       "      <th>2</th>\n",
       "      <td>1/3/2016</td>\n",
       "      <td>40</td>\n",
       "      <td>21</td>\n",
       "      <td>47</td>\n",
       "      <td>29.86</td>\n",
       "      <td>10</td>\n",
       "      <td>8.0</td>\n",
       "      <td>0</td>\n",
       "      <td>1</td>\n",
       "      <td>NaN</td>\n",
       "      <td>277</td>\n",
       "    </tr>\n",
       "    <tr>\n",
       "      <th>3</th>\n",
       "      <td>1/4/2016</td>\n",
       "      <td>25</td>\n",
       "      <td>9</td>\n",
       "      <td>44</td>\n",
       "      <td>30.05</td>\n",
       "      <td>10</td>\n",
       "      <td>9.0</td>\n",
       "      <td>0</td>\n",
       "      <td>3</td>\n",
       "      <td>NaN</td>\n",
       "      <td>345</td>\n",
       "    </tr>\n",
       "    <tr>\n",
       "      <th>4</th>\n",
       "      <td>1/5/2016</td>\n",
       "      <td>20</td>\n",
       "      <td>-3</td>\n",
       "      <td>41</td>\n",
       "      <td>30.57</td>\n",
       "      <td>10</td>\n",
       "      <td>5.0</td>\n",
       "      <td>0</td>\n",
       "      <td>0</td>\n",
       "      <td>NaN</td>\n",
       "      <td>333</td>\n",
       "    </tr>\n",
       "    <tr>\n",
       "      <th>5</th>\n",
       "      <td>1/6/2016</td>\n",
       "      <td>33</td>\n",
       "      <td>4</td>\n",
       "      <td>35</td>\n",
       "      <td>30.50</td>\n",
       "      <td>10</td>\n",
       "      <td>4.0</td>\n",
       "      <td>0</td>\n",
       "      <td>0</td>\n",
       "      <td>NaN</td>\n",
       "      <td>259</td>\n",
       "    </tr>\n",
       "    <tr>\n",
       "      <th>6</th>\n",
       "      <td>1/7/2016</td>\n",
       "      <td>39</td>\n",
       "      <td>11</td>\n",
       "      <td>33</td>\n",
       "      <td>30.28</td>\n",
       "      <td>10</td>\n",
       "      <td>2.0</td>\n",
       "      <td>0</td>\n",
       "      <td>3</td>\n",
       "      <td>NaN</td>\n",
       "      <td>293</td>\n",
       "    </tr>\n",
       "    <tr>\n",
       "      <th>7</th>\n",
       "      <td>1/8/2016</td>\n",
       "      <td>39</td>\n",
       "      <td>29</td>\n",
       "      <td>64</td>\n",
       "      <td>30.20</td>\n",
       "      <td>10</td>\n",
       "      <td>4.0</td>\n",
       "      <td>0</td>\n",
       "      <td>8</td>\n",
       "      <td>NaN</td>\n",
       "      <td>79</td>\n",
       "    </tr>\n",
       "    <tr>\n",
       "      <th>8</th>\n",
       "      <td>1/9/2016</td>\n",
       "      <td>44</td>\n",
       "      <td>38</td>\n",
       "      <td>77</td>\n",
       "      <td>30.16</td>\n",
       "      <td>9</td>\n",
       "      <td>8.0</td>\n",
       "      <td>T</td>\n",
       "      <td>8</td>\n",
       "      <td>Rain</td>\n",
       "      <td>76</td>\n",
       "    </tr>\n",
       "    <tr>\n",
       "      <th>9</th>\n",
       "      <td>1/10/2016</td>\n",
       "      <td>50</td>\n",
       "      <td>46</td>\n",
       "      <td>71</td>\n",
       "      <td>29.59</td>\n",
       "      <td>4</td>\n",
       "      <td>NaN</td>\n",
       "      <td>1.8</td>\n",
       "      <td>7</td>\n",
       "      <td>Rain</td>\n",
       "      <td>109</td>\n",
       "    </tr>\n",
       "    <tr>\n",
       "      <th>10</th>\n",
       "      <td>1/11/2016</td>\n",
       "      <td>33</td>\n",
       "      <td>8</td>\n",
       "      <td>37</td>\n",
       "      <td>29.92</td>\n",
       "      <td>10</td>\n",
       "      <td>NaN</td>\n",
       "      <td>0</td>\n",
       "      <td>1</td>\n",
       "      <td>NaN</td>\n",
       "      <td>289</td>\n",
       "    </tr>\n",
       "    <tr>\n",
       "      <th>11</th>\n",
       "      <td>1/12/2016</td>\n",
       "      <td>35</td>\n",
       "      <td>15</td>\n",
       "      <td>53</td>\n",
       "      <td>29.85</td>\n",
       "      <td>10</td>\n",
       "      <td>6.0</td>\n",
       "      <td>T</td>\n",
       "      <td>4</td>\n",
       "      <td>NaN</td>\n",
       "      <td>235</td>\n",
       "    </tr>\n",
       "    <tr>\n",
       "      <th>12</th>\n",
       "      <td>1/13/2016</td>\n",
       "      <td>26</td>\n",
       "      <td>4</td>\n",
       "      <td>42</td>\n",
       "      <td>29.94</td>\n",
       "      <td>10</td>\n",
       "      <td>10.0</td>\n",
       "      <td>0</td>\n",
       "      <td>0</td>\n",
       "      <td>NaN</td>\n",
       "      <td>284</td>\n",
       "    </tr>\n",
       "    <tr>\n",
       "      <th>13</th>\n",
       "      <td>1/14/2016</td>\n",
       "      <td>30</td>\n",
       "      <td>12</td>\n",
       "      <td>47</td>\n",
       "      <td>29.95</td>\n",
       "      <td>10</td>\n",
       "      <td>5.0</td>\n",
       "      <td>T</td>\n",
       "      <td>7</td>\n",
       "      <td>NaN</td>\n",
       "      <td>266</td>\n",
       "    </tr>\n",
       "    <tr>\n",
       "      <th>14</th>\n",
       "      <td>1/15/2016</td>\n",
       "      <td>43</td>\n",
       "      <td>31</td>\n",
       "      <td>62</td>\n",
       "      <td>29.82</td>\n",
       "      <td>9</td>\n",
       "      <td>5.0</td>\n",
       "      <td>T</td>\n",
       "      <td>2</td>\n",
       "      <td>NaN</td>\n",
       "      <td>101</td>\n",
       "    </tr>\n",
       "    <tr>\n",
       "      <th>15</th>\n",
       "      <td>1/16/2016</td>\n",
       "      <td>47</td>\n",
       "      <td>37</td>\n",
       "      <td>70</td>\n",
       "      <td>29.52</td>\n",
       "      <td>8</td>\n",
       "      <td>7.0</td>\n",
       "      <td>0.24</td>\n",
       "      <td>7</td>\n",
       "      <td>Rain</td>\n",
       "      <td>340</td>\n",
       "    </tr>\n",
       "    <tr>\n",
       "      <th>16</th>\n",
       "      <td>1/17/2016</td>\n",
       "      <td>36</td>\n",
       "      <td>23</td>\n",
       "      <td>66</td>\n",
       "      <td>29.78</td>\n",
       "      <td>8</td>\n",
       "      <td>6.0</td>\n",
       "      <td>0.05</td>\n",
       "      <td>6</td>\n",
       "      <td>Fog-Snow</td>\n",
       "      <td>345</td>\n",
       "    </tr>\n",
       "    <tr>\n",
       "      <th>17</th>\n",
       "      <td>1/18/2016</td>\n",
       "      <td>25</td>\n",
       "      <td>6</td>\n",
       "      <td>53</td>\n",
       "      <td>29.83</td>\n",
       "      <td>9</td>\n",
       "      <td>12.0</td>\n",
       "      <td>T</td>\n",
       "      <td>2</td>\n",
       "      <td>Snow</td>\n",
       "      <td>293</td>\n",
       "    </tr>\n",
       "    <tr>\n",
       "      <th>18</th>\n",
       "      <td>1/19/2016</td>\n",
       "      <td>22</td>\n",
       "      <td>3</td>\n",
       "      <td>42</td>\n",
       "      <td>30.03</td>\n",
       "      <td>10</td>\n",
       "      <td>11.0</td>\n",
       "      <td>0</td>\n",
       "      <td>1</td>\n",
       "      <td>NaN</td>\n",
       "      <td>293</td>\n",
       "    </tr>\n",
       "    <tr>\n",
       "      <th>19</th>\n",
       "      <td>1/20/2016</td>\n",
       "      <td>32</td>\n",
       "      <td>15</td>\n",
       "      <td>49</td>\n",
       "      <td>30.13</td>\n",
       "      <td>10</td>\n",
       "      <td>6.0</td>\n",
       "      <td>0</td>\n",
       "      <td>2</td>\n",
       "      <td>NaN</td>\n",
       "      <td>302</td>\n",
       "    </tr>\n",
       "    <tr>\n",
       "      <th>20</th>\n",
       "      <td>1/21/2016</td>\n",
       "      <td>31</td>\n",
       "      <td>11</td>\n",
       "      <td>45</td>\n",
       "      <td>30.15</td>\n",
       "      <td>10</td>\n",
       "      <td>6.0</td>\n",
       "      <td>0</td>\n",
       "      <td>1</td>\n",
       "      <td>NaN</td>\n",
       "      <td>312</td>\n",
       "    </tr>\n",
       "    <tr>\n",
       "      <th>21</th>\n",
       "      <td>1/22/2016</td>\n",
       "      <td>26</td>\n",
       "      <td>6</td>\n",
       "      <td>41</td>\n",
       "      <td>30.21</td>\n",
       "      <td>9</td>\n",
       "      <td>NaN</td>\n",
       "      <td>0.01</td>\n",
       "      <td>3</td>\n",
       "      <td>Snow</td>\n",
       "      <td>34</td>\n",
       "    </tr>\n",
       "    <tr>\n",
       "      <th>22</th>\n",
       "      <td>1/23/2016</td>\n",
       "      <td>26</td>\n",
       "      <td>21</td>\n",
       "      <td>78</td>\n",
       "      <td>29.77</td>\n",
       "      <td>1</td>\n",
       "      <td>16.0</td>\n",
       "      <td>2.31</td>\n",
       "      <td>8</td>\n",
       "      <td>Fog-Snow</td>\n",
       "      <td>42</td>\n",
       "    </tr>\n",
       "    <tr>\n",
       "      <th>23</th>\n",
       "      <td>1/24/2016</td>\n",
       "      <td>28</td>\n",
       "      <td>11</td>\n",
       "      <td>53</td>\n",
       "      <td>29.92</td>\n",
       "      <td>8</td>\n",
       "      <td>6.0</td>\n",
       "      <td>T</td>\n",
       "      <td>3</td>\n",
       "      <td>Snow</td>\n",
       "      <td>327</td>\n",
       "    </tr>\n",
       "    <tr>\n",
       "      <th>24</th>\n",
       "      <td>1/25/2016</td>\n",
       "      <td>34</td>\n",
       "      <td>18</td>\n",
       "      <td>54</td>\n",
       "      <td>30.25</td>\n",
       "      <td>10</td>\n",
       "      <td>3.0</td>\n",
       "      <td>0</td>\n",
       "      <td>2</td>\n",
       "      <td>NaN</td>\n",
       "      <td>286</td>\n",
       "    </tr>\n",
       "    <tr>\n",
       "      <th>25</th>\n",
       "      <td>1/26/2016</td>\n",
       "      <td>43</td>\n",
       "      <td>29</td>\n",
       "      <td>56</td>\n",
       "      <td>30.03</td>\n",
       "      <td>10</td>\n",
       "      <td>7.0</td>\n",
       "      <td>0</td>\n",
       "      <td>2</td>\n",
       "      <td>NaN</td>\n",
       "      <td>244</td>\n",
       "    </tr>\n",
       "    <tr>\n",
       "      <th>26</th>\n",
       "      <td>1/27/2016</td>\n",
       "      <td>41</td>\n",
       "      <td>22</td>\n",
       "      <td>45</td>\n",
       "      <td>30.03</td>\n",
       "      <td>10</td>\n",
       "      <td>7.0</td>\n",
       "      <td>T</td>\n",
       "      <td>3</td>\n",
       "      <td>Rain</td>\n",
       "      <td>311</td>\n",
       "    </tr>\n",
       "    <tr>\n",
       "      <th>27</th>\n",
       "      <td>1/28/2016</td>\n",
       "      <td>37</td>\n",
       "      <td>20</td>\n",
       "      <td>51</td>\n",
       "      <td>29.90</td>\n",
       "      <td>10</td>\n",
       "      <td>5.0</td>\n",
       "      <td>0</td>\n",
       "      <td>1</td>\n",
       "      <td>NaN</td>\n",
       "      <td>234</td>\n",
       "    </tr>\n",
       "    <tr>\n",
       "      <th>28</th>\n",
       "      <td>1/29/2016</td>\n",
       "      <td>36</td>\n",
       "      <td>21</td>\n",
       "      <td>50</td>\n",
       "      <td>29.58</td>\n",
       "      <td>10</td>\n",
       "      <td>8.0</td>\n",
       "      <td>0</td>\n",
       "      <td>4</td>\n",
       "      <td>NaN</td>\n",
       "      <td>298</td>\n",
       "    </tr>\n",
       "    <tr>\n",
       "      <th>29</th>\n",
       "      <td>1/30/2016</td>\n",
       "      <td>34</td>\n",
       "      <td>16</td>\n",
       "      <td>46</td>\n",
       "      <td>30.01</td>\n",
       "      <td>10</td>\n",
       "      <td>7.0</td>\n",
       "      <td>0</td>\n",
       "      <td>0</td>\n",
       "      <td>NaN</td>\n",
       "      <td>257</td>\n",
       "    </tr>\n",
       "    <tr>\n",
       "      <th>30</th>\n",
       "      <td>1/31/2016</td>\n",
       "      <td>46</td>\n",
       "      <td>28</td>\n",
       "      <td>52</td>\n",
       "      <td>29.90</td>\n",
       "      <td>10</td>\n",
       "      <td>5.0</td>\n",
       "      <td>0</td>\n",
       "      <td>0</td>\n",
       "      <td>NaN</td>\n",
       "      <td>241</td>\n",
       "    </tr>\n",
       "  </tbody>\n",
       "</table>\n",
       "</div>"
      ],
      "text/plain": [
       "          EST  Temperature  DewPoint  Humidity  Sea Level PressureIn  \\\n",
       "1    1/2/2016           36        18        46                 30.02   \n",
       "2    1/3/2016           40        21        47                 29.86   \n",
       "3    1/4/2016           25         9        44                 30.05   \n",
       "4    1/5/2016           20        -3        41                 30.57   \n",
       "5    1/6/2016           33         4        35                 30.50   \n",
       "6    1/7/2016           39        11        33                 30.28   \n",
       "7    1/8/2016           39        29        64                 30.20   \n",
       "8    1/9/2016           44        38        77                 30.16   \n",
       "9   1/10/2016           50        46        71                 29.59   \n",
       "10  1/11/2016           33         8        37                 29.92   \n",
       "11  1/12/2016           35        15        53                 29.85   \n",
       "12  1/13/2016           26         4        42                 29.94   \n",
       "13  1/14/2016           30        12        47                 29.95   \n",
       "14  1/15/2016           43        31        62                 29.82   \n",
       "15  1/16/2016           47        37        70                 29.52   \n",
       "16  1/17/2016           36        23        66                 29.78   \n",
       "17  1/18/2016           25         6        53                 29.83   \n",
       "18  1/19/2016           22         3        42                 30.03   \n",
       "19  1/20/2016           32        15        49                 30.13   \n",
       "20  1/21/2016           31        11        45                 30.15   \n",
       "21  1/22/2016           26         6        41                 30.21   \n",
       "22  1/23/2016           26        21        78                 29.77   \n",
       "23  1/24/2016           28        11        53                 29.92   \n",
       "24  1/25/2016           34        18        54                 30.25   \n",
       "25  1/26/2016           43        29        56                 30.03   \n",
       "26  1/27/2016           41        22        45                 30.03   \n",
       "27  1/28/2016           37        20        51                 29.90   \n",
       "28  1/29/2016           36        21        50                 29.58   \n",
       "29  1/30/2016           34        16        46                 30.01   \n",
       "30  1/31/2016           46        28        52                 29.90   \n",
       "\n",
       "    VisibilityMiles  WindSpeedMPH PrecipitationIn  CloudCover    Events  \\\n",
       "1                10           7.0               0           3       NaN   \n",
       "2                10           8.0               0           1       NaN   \n",
       "3                10           9.0               0           3       NaN   \n",
       "4                10           5.0               0           0       NaN   \n",
       "5                10           4.0               0           0       NaN   \n",
       "6                10           2.0               0           3       NaN   \n",
       "7                10           4.0               0           8       NaN   \n",
       "8                 9           8.0               T           8      Rain   \n",
       "9                 4           NaN             1.8           7      Rain   \n",
       "10               10           NaN               0           1       NaN   \n",
       "11               10           6.0               T           4       NaN   \n",
       "12               10          10.0               0           0       NaN   \n",
       "13               10           5.0               T           7       NaN   \n",
       "14                9           5.0               T           2       NaN   \n",
       "15                8           7.0            0.24           7      Rain   \n",
       "16                8           6.0            0.05           6  Fog-Snow   \n",
       "17                9          12.0               T           2      Snow   \n",
       "18               10          11.0               0           1       NaN   \n",
       "19               10           6.0               0           2       NaN   \n",
       "20               10           6.0               0           1       NaN   \n",
       "21                9           NaN            0.01           3      Snow   \n",
       "22                1          16.0            2.31           8  Fog-Snow   \n",
       "23                8           6.0               T           3      Snow   \n",
       "24               10           3.0               0           2       NaN   \n",
       "25               10           7.0               0           2       NaN   \n",
       "26               10           7.0               T           3      Rain   \n",
       "27               10           5.0               0           1       NaN   \n",
       "28               10           8.0               0           4       NaN   \n",
       "29               10           7.0               0           0       NaN   \n",
       "30               10           5.0               0           0       NaN   \n",
       "\n",
       "    WindDirDegrees  \n",
       "1              275  \n",
       "2              277  \n",
       "3              345  \n",
       "4              333  \n",
       "5              259  \n",
       "6              293  \n",
       "7               79  \n",
       "8               76  \n",
       "9              109  \n",
       "10             289  \n",
       "11             235  \n",
       "12             284  \n",
       "13             266  \n",
       "14             101  \n",
       "15             340  \n",
       "16             345  \n",
       "17             293  \n",
       "18             293  \n",
       "19             302  \n",
       "20             312  \n",
       "21              34  \n",
       "22              42  \n",
       "23             327  \n",
       "24             286  \n",
       "25             244  \n",
       "26             311  \n",
       "27             234  \n",
       "28             298  \n",
       "29             257  \n",
       "30             241  "
      ]
     },
     "execution_count": 80,
     "metadata": {},
     "output_type": "execute_result"
    }
   ],
   "source": [
    "import pandas as pd\n",
    "\n",
    "df = pd.read_csv(\"C:\\\\Users\\\\Administrator\\\\Downloads\\\\nyc_weather.csv\")\n",
    "df.head(10)\n",
    "df.tail(30)\n"
   ]
  },
  {
   "cell_type": "code",
   "execution_count": 81,
   "id": "52ec04cf-09c7-4939-b6fa-c7b3fa91da2c",
   "metadata": {},
   "outputs": [
    {
     "data": {
      "text/plain": [
       "Index(['EST', 'Temperature', 'DewPoint', 'Humidity', 'Sea Level PressureIn',\n",
       "       'VisibilityMiles', 'WindSpeedMPH', 'PrecipitationIn', 'CloudCover',\n",
       "       'Events', 'WindDirDegrees'],\n",
       "      dtype='object')"
      ]
     },
     "execution_count": 81,
     "metadata": {},
     "output_type": "execute_result"
    }
   ],
   "source": [
    "df.Events\n",
    "df.Humidity\n",
    "\n",
    "df.columns"
   ]
  },
  {
   "cell_type": "code",
   "execution_count": 82,
   "id": "270a420e-0a96-4dfc-af01-8366e8048bc6",
   "metadata": {},
   "outputs": [
    {
     "data": {
      "text/plain": [
       "EST                      object\n",
       "Temperature               int64\n",
       "DewPoint                  int64\n",
       "Humidity                  int64\n",
       "Sea Level PressureIn    float64\n",
       "VisibilityMiles           int64\n",
       "WindSpeedMPH            float64\n",
       "PrecipitationIn          object\n",
       "CloudCover                int64\n",
       "Events                   object\n",
       "WindDirDegrees            int64\n",
       "dtype: object"
      ]
     },
     "execution_count": 82,
     "metadata": {},
     "output_type": "execute_result"
    }
   ],
   "source": [
    "df.dtypes"
   ]
  },
  {
   "cell_type": "code",
   "execution_count": 83,
   "id": "868ac040-6a38-4b04-a837-720e753ed270",
   "metadata": {},
   "outputs": [
    {
     "data": {
      "text/plain": [
       "<bound method DataFrame.count of           EST  Temperature  DewPoint  Humidity  Sea Level PressureIn  \\\n",
       "0    1/1/2016           38        23        52                 30.03   \n",
       "1    1/2/2016           36        18        46                 30.02   \n",
       "2    1/3/2016           40        21        47                 29.86   \n",
       "3    1/4/2016           25         9        44                 30.05   \n",
       "4    1/5/2016           20        -3        41                 30.57   \n",
       "5    1/6/2016           33         4        35                 30.50   \n",
       "6    1/7/2016           39        11        33                 30.28   \n",
       "7    1/8/2016           39        29        64                 30.20   \n",
       "8    1/9/2016           44        38        77                 30.16   \n",
       "9   1/10/2016           50        46        71                 29.59   \n",
       "10  1/11/2016           33         8        37                 29.92   \n",
       "11  1/12/2016           35        15        53                 29.85   \n",
       "12  1/13/2016           26         4        42                 29.94   \n",
       "13  1/14/2016           30        12        47                 29.95   \n",
       "14  1/15/2016           43        31        62                 29.82   \n",
       "15  1/16/2016           47        37        70                 29.52   \n",
       "16  1/17/2016           36        23        66                 29.78   \n",
       "17  1/18/2016           25         6        53                 29.83   \n",
       "18  1/19/2016           22         3        42                 30.03   \n",
       "19  1/20/2016           32        15        49                 30.13   \n",
       "20  1/21/2016           31        11        45                 30.15   \n",
       "21  1/22/2016           26         6        41                 30.21   \n",
       "22  1/23/2016           26        21        78                 29.77   \n",
       "23  1/24/2016           28        11        53                 29.92   \n",
       "24  1/25/2016           34        18        54                 30.25   \n",
       "25  1/26/2016           43        29        56                 30.03   \n",
       "26  1/27/2016           41        22        45                 30.03   \n",
       "27  1/28/2016           37        20        51                 29.90   \n",
       "28  1/29/2016           36        21        50                 29.58   \n",
       "29  1/30/2016           34        16        46                 30.01   \n",
       "30  1/31/2016           46        28        52                 29.90   \n",
       "\n",
       "    VisibilityMiles  WindSpeedMPH PrecipitationIn  CloudCover    Events  \\\n",
       "0                10           8.0               0           5       NaN   \n",
       "1                10           7.0               0           3       NaN   \n",
       "2                10           8.0               0           1       NaN   \n",
       "3                10           9.0               0           3       NaN   \n",
       "4                10           5.0               0           0       NaN   \n",
       "5                10           4.0               0           0       NaN   \n",
       "6                10           2.0               0           3       NaN   \n",
       "7                10           4.0               0           8       NaN   \n",
       "8                 9           8.0               T           8      Rain   \n",
       "9                 4           NaN             1.8           7      Rain   \n",
       "10               10           NaN               0           1       NaN   \n",
       "11               10           6.0               T           4       NaN   \n",
       "12               10          10.0               0           0       NaN   \n",
       "13               10           5.0               T           7       NaN   \n",
       "14                9           5.0               T           2       NaN   \n",
       "15                8           7.0            0.24           7      Rain   \n",
       "16                8           6.0            0.05           6  Fog-Snow   \n",
       "17                9          12.0               T           2      Snow   \n",
       "18               10          11.0               0           1       NaN   \n",
       "19               10           6.0               0           2       NaN   \n",
       "20               10           6.0               0           1       NaN   \n",
       "21                9           NaN            0.01           3      Snow   \n",
       "22                1          16.0            2.31           8  Fog-Snow   \n",
       "23                8           6.0               T           3      Snow   \n",
       "24               10           3.0               0           2       NaN   \n",
       "25               10           7.0               0           2       NaN   \n",
       "26               10           7.0               T           3      Rain   \n",
       "27               10           5.0               0           1       NaN   \n",
       "28               10           8.0               0           4       NaN   \n",
       "29               10           7.0               0           0       NaN   \n",
       "30               10           5.0               0           0       NaN   \n",
       "\n",
       "    WindDirDegrees  \n",
       "0              281  \n",
       "1              275  \n",
       "2              277  \n",
       "3              345  \n",
       "4              333  \n",
       "5              259  \n",
       "6              293  \n",
       "7               79  \n",
       "8               76  \n",
       "9              109  \n",
       "10             289  \n",
       "11             235  \n",
       "12             284  \n",
       "13             266  \n",
       "14             101  \n",
       "15             340  \n",
       "16             345  \n",
       "17             293  \n",
       "18             293  \n",
       "19             302  \n",
       "20             312  \n",
       "21              34  \n",
       "22              42  \n",
       "23             327  \n",
       "24             286  \n",
       "25             244  \n",
       "26             311  \n",
       "27             234  \n",
       "28             298  \n",
       "29             257  \n",
       "30             241  >"
      ]
     },
     "execution_count": 83,
     "metadata": {},
     "output_type": "execute_result"
    }
   ],
   "source": [
    "df.count"
   ]
  },
  {
   "cell_type": "code",
   "execution_count": 84,
   "id": "b9093b50-0241-40c5-823c-1b11343e7815",
   "metadata": {},
   "outputs": [
    {
     "data": {
      "text/plain": [
       "(31, 11)"
      ]
     },
     "execution_count": 84,
     "metadata": {},
     "output_type": "execute_result"
    }
   ],
   "source": [
    "df.shape"
   ]
  },
  {
   "cell_type": "code",
   "execution_count": 85,
   "id": "1c229728-eff6-4ecf-a962-d68f4dffceba",
   "metadata": {},
   "outputs": [
    {
     "data": {
      "text/plain": [
       "array([nan, 'Rain', 'Fog-Snow', 'Snow'], dtype=object)"
      ]
     },
     "execution_count": 85,
     "metadata": {},
     "output_type": "execute_result"
    }
   ],
   "source": [
    "df.Events.unique()"
   ]
  },
  {
   "cell_type": "code",
   "execution_count": 90,
   "id": "7497f437-4ccf-40eb-b652-228aaccffe35",
   "metadata": {},
   "outputs": [
    {
     "data": {
      "text/plain": [
       "count        9\n",
       "unique       3\n",
       "top       Rain\n",
       "freq         4\n",
       "Name: Events, dtype: object"
      ]
     },
     "execution_count": 90,
     "metadata": {},
     "output_type": "execute_result"
    }
   ],
   "source": [
    "df.Events.describe()"
   ]
  },
  {
   "cell_type": "code",
   "execution_count": 91,
   "id": "9f2596ed-af01-479b-83a2-34b953527a64",
   "metadata": {},
   "outputs": [
    {
     "data": {
      "text/plain": [
       "0          NaN\n",
       "1          NaN\n",
       "2          NaN\n",
       "3          NaN\n",
       "4          NaN\n",
       "5          NaN\n",
       "6          NaN\n",
       "7          NaN\n",
       "8         Rain\n",
       "9         Rain\n",
       "10         NaN\n",
       "11         NaN\n",
       "12         NaN\n",
       "13         NaN\n",
       "14         NaN\n",
       "15        Rain\n",
       "16    Fog-Snow\n",
       "17        Snow\n",
       "18         NaN\n",
       "19         NaN\n",
       "20         NaN\n",
       "21        Snow\n",
       "22    Fog-Snow\n",
       "23        Snow\n",
       "24         NaN\n",
       "25         NaN\n",
       "26        Rain\n",
       "27         NaN\n",
       "28         NaN\n",
       "29         NaN\n",
       "30         NaN\n",
       "Name: Events, dtype: object"
      ]
     },
     "execution_count": 91,
     "metadata": {},
     "output_type": "execute_result"
    }
   ],
   "source": [
    "df.Events"
   ]
  },
  {
   "cell_type": "code",
   "execution_count": 92,
   "id": "8c52a673-61ea-4370-b160-94f6133f8c9f",
   "metadata": {},
   "outputs": [
    {
     "data": {
      "text/plain": [
       "np.int64(50)"
      ]
     },
     "execution_count": 92,
     "metadata": {},
     "output_type": "execute_result"
    }
   ],
   "source": [
    "df['Temperature'].max()"
   ]
  },
  {
   "cell_type": "code",
   "execution_count": 93,
   "id": "a686d12a-63ba-45da-92ef-f3828839a881",
   "metadata": {},
   "outputs": [
    {
     "data": {
      "text/plain": [
       "np.int64(20)"
      ]
     },
     "execution_count": 93,
     "metadata": {},
     "output_type": "execute_result"
    }
   ],
   "source": [
    "df['Temperature'].min()"
   ]
  },
  {
   "cell_type": "code",
   "execution_count": 94,
   "id": "53d40c98-ca91-467a-94bf-08b3ac8101a3",
   "metadata": {},
   "outputs": [
    {
     "data": {
      "text/plain": [
       "np.int64(22)"
      ]
     },
     "execution_count": 94,
     "metadata": {},
     "output_type": "execute_result"
    }
   ],
   "source": [
    "df1=df['Temperature']>30\n",
    "df1\n",
    "df1.sum()"
   ]
  },
  {
   "cell_type": "code",
   "execution_count": 98,
   "id": "f46ca6d1-fce4-4cc2-ad4f-ee5ebec43c1a",
   "metadata": {},
   "outputs": [
    {
     "data": {
      "text/plain": [
       "8      1/9/2016\n",
       "9     1/10/2016\n",
       "15    1/16/2016\n",
       "26    1/27/2016\n",
       "Name: EST, dtype: object"
      ]
     },
     "execution_count": 98,
     "metadata": {},
     "output_type": "execute_result"
    }
   ],
   "source": [
    "df['EST'][df['Events']=='Rain']"
   ]
  },
  {
   "cell_type": "code",
   "execution_count": 99,
   "id": "a839e6b7-0442-4e97-9f32-201c804d9506",
   "metadata": {},
   "outputs": [
    {
     "data": {
      "text/plain": [
       "17    1/18/2016\n",
       "21    1/22/2016\n",
       "23    1/24/2016\n",
       "Name: EST, dtype: object"
      ]
     },
     "execution_count": 99,
     "metadata": {},
     "output_type": "execute_result"
    }
   ],
   "source": [
    "df['EST'][df['Events']=='Snow']"
   ]
  },
  {
   "cell_type": "code",
   "execution_count": 101,
   "id": "44f33e57-437f-4174-89ce-fa1f3f2eaf6c",
   "metadata": {},
   "outputs": [
    {
     "data": {
      "text/plain": [
       "15    1/16/2016\n",
       "Name: EST, dtype: object"
      ]
     },
     "execution_count": 101,
     "metadata": {},
     "output_type": "execute_result"
    }
   ],
   "source": [
    "df['EST'][df['Humidity']==70]"
   ]
  },
  {
   "cell_type": "code",
   "execution_count": 102,
   "id": "99fcff45-6f5c-4633-b85e-a80fb8e2b088",
   "metadata": {},
   "outputs": [
    {
     "data": {
      "text/plain": [
       "8      1/9/2016\n",
       "9     1/10/2016\n",
       "15    1/16/2016\n",
       "22    1/23/2016\n",
       "Name: EST, dtype: object"
      ]
     },
     "execution_count": 102,
     "metadata": {},
     "output_type": "execute_result"
    }
   ],
   "source": [
    "df['EST'][df['Humidity']>=70]"
   ]
  },
  {
   "cell_type": "code",
   "execution_count": 103,
   "id": "2b85d2b4-4830-409c-a596-46ef98906dac",
   "metadata": {},
   "outputs": [
    {
     "data": {
      "text/plain": [
       "1      1/2/2016\n",
       "15    1/16/2016\n",
       "25    1/26/2016\n",
       "26    1/27/2016\n",
       "29    1/30/2016\n",
       "Name: EST, dtype: object"
      ]
     },
     "execution_count": 103,
     "metadata": {},
     "output_type": "execute_result"
    }
   ],
   "source": [
    "df['EST'][df['WindSpeedMPH']==7.0]"
   ]
  },
  {
   "cell_type": "code",
   "execution_count": 104,
   "id": "9b441926-eb40-4043-b1a0-a025d7c2ee2b",
   "metadata": {},
   "outputs": [
    {
     "data": {
      "text/plain": [
       "0     False\n",
       "1     False\n",
       "2     False\n",
       "3     False\n",
       "4     False\n",
       "5     False\n",
       "6     False\n",
       "7     False\n",
       "8     False\n",
       "9      True\n",
       "10     True\n",
       "11    False\n",
       "12    False\n",
       "13    False\n",
       "14    False\n",
       "15    False\n",
       "16    False\n",
       "17    False\n",
       "18    False\n",
       "19    False\n",
       "20    False\n",
       "21     True\n",
       "22    False\n",
       "23    False\n",
       "24    False\n",
       "25    False\n",
       "26    False\n",
       "27    False\n",
       "28    False\n",
       "29    False\n",
       "30    False\n",
       "Name: WindSpeedMPH, dtype: bool"
      ]
     },
     "execution_count": 104,
     "metadata": {},
     "output_type": "execute_result"
    }
   ],
   "source": [
    "df.WindSpeedMPH.isna()"
   ]
  },
  {
   "cell_type": "code",
   "execution_count": 105,
   "id": "18e4ee94-8f68-470e-9287-b4cffd416a2e",
   "metadata": {},
   "outputs": [
    {
     "name": "stdout",
     "output_type": "stream",
     "text": [
      "0    10\n",
      "1    20\n",
      "2    30\n",
      "3    40\n",
      "4    50\n",
      "5    60\n",
      "6    70\n",
      "7    80\n",
      "dtype: int64 <class 'pandas.core.series.Series'>\n"
     ]
    }
   ],
   "source": [
    "marks=[10,20,30,40,50,60,70,80]\n",
    "s=pd.Series(marks)\n",
    "print(s,type(s))"
   ]
  },
  {
   "cell_type": "code",
   "execution_count": 108,
   "id": "0ed102ba-9823-452f-9fd8-a13f8d1ce479",
   "metadata": {},
   "outputs": [
    {
     "name": "stdout",
     "output_type": "stream",
     "text": [
      "one      10\n",
      "two      20\n",
      "Three    30\n",
      "four     40\n",
      "five     50\n",
      "six      60\n",
      "seven    70\n",
      "eight    80\n",
      "dtype: int64\n"
     ]
    }
   ],
   "source": [
    "marks=[10,20,30,40,50,60,70,80]\n",
    "change=pd.Series(marks,index=['one','two','Three','four','five','six','seven','eight'])\n",
    "print(change)"
   ]
  },
  {
   "cell_type": "code",
   "execution_count": 109,
   "id": "f6735b3c-56c2-437b-b414-82e404b4cecc",
   "metadata": {},
   "outputs": [
    {
     "name": "stdout",
     "output_type": "stream",
     "text": [
      "0    10\n",
      "1    20\n",
      "2    30\n",
      "3    40\n",
      "4    50\n",
      "dtype: int64\n"
     ]
    }
   ],
   "source": [
    "print(s.loc[0:4])"
   ]
  },
  {
   "cell_type": "code",
   "execution_count": 111,
   "id": "7545d57b-89ac-48e8-84ff-6b577c1b6738",
   "metadata": {},
   "outputs": [
    {
     "name": "stdout",
     "output_type": "stream",
     "text": [
      "0    10.0\n",
      "1    20.0\n",
      "2    30.0\n",
      "3    40.0\n",
      "4    50.0\n",
      "5    60.0\n",
      "6    70.0\n",
      "7    80.0\n",
      "dtype: float32 <class 'pandas.core.series.Series'>\n"
     ]
    }
   ],
   "source": [
    "s=pd.Series(marks,dtype='float32')\n",
    "print(s,type(s))"
   ]
  },
  {
   "cell_type": "code",
   "execution_count": 112,
   "id": "05528c73-db91-48cb-9ff5-3e71b13da33c",
   "metadata": {},
   "outputs": [
    {
     "data": {
      "text/plain": [
       "np.float32(40.0)"
      ]
     },
     "execution_count": 112,
     "metadata": {},
     "output_type": "execute_result"
    }
   ],
   "source": [
    "s[3]"
   ]
  },
  {
   "cell_type": "code",
   "execution_count": 113,
   "id": "c42bddcf-4fb0-4c7f-9d7b-feb2cd134923",
   "metadata": {},
   "outputs": [
    {
     "data": {
      "text/plain": [
       "(8,)"
      ]
     },
     "execution_count": 113,
     "metadata": {},
     "output_type": "execute_result"
    }
   ],
   "source": [
    "s.shape"
   ]
  },
  {
   "cell_type": "code",
   "execution_count": 114,
   "id": "9450dce6-1010-4f18-a793-03fa100880ea",
   "metadata": {},
   "outputs": [],
   "source": [
    "lst=[10,20,30,40]"
   ]
  },
  {
   "cell_type": "code",
   "execution_count": 120,
   "id": "59890207-8245-4092-b2a1-7ce78478db52",
   "metadata": {},
   "outputs": [
    {
     "name": "stdout",
     "output_type": "stream",
     "text": [
      "0    10\n",
      "1    20\n",
      "2    30\n",
      "3    40\n",
      "dtype: int64 <class 'pandas.core.series.Series'>\n"
     ]
    }
   ],
   "source": [
    "x=pd.Series(lst)\n",
    "print(x,type(x))"
   ]
  },
  {
   "cell_type": "code",
   "execution_count": 122,
   "id": "b3ce2f90-2f5b-44de-8b60-d7a9ef947cc0",
   "metadata": {},
   "outputs": [
    {
     "name": "stdout",
     "output_type": "stream",
     "text": [
      "slno               10\n",
      "Book      outer banks\n",
      "price            80.0\n",
      "Author            Joy\n",
      "dtype: object <class 'pandas.core.series.Series'>\n"
     ]
    }
   ],
   "source": [
    "data = [10,\"outer banks\",80.0,\"Joy\"]\n",
    "book=pd.Series(data,index=[\"slno\",\"Book\",\"price\",\"Author\"])\n",
    "print(book,type(book))"
   ]
  },
  {
   "cell_type": "code",
   "execution_count": 123,
   "id": "b934d95c-1386-430c-9d28-b308d82ec8ef",
   "metadata": {},
   "outputs": [
    {
     "name": "stdout",
     "output_type": "stream",
     "text": [
      "0        [1, 0, 1, 3]\n",
      "1     [10, 20, 30, 0]\n",
      "2    [10, 20, 30, 40]\n",
      "dtype: object\n"
     ]
    }
   ],
   "source": [
    "list=[[1,0,1,3],[10,20,30,0],[10,20,30,40]]\n",
    "df = pd.Series(list)\n",
    "print(df)"
   ]
  },
  {
   "cell_type": "code",
   "execution_count": 125,
   "id": "9bda2d75-7727-4e83-89a3-c7fa4ab938dd",
   "metadata": {},
   "outputs": [
    {
     "name": "stdout",
     "output_type": "stream",
     "text": [
      "    0       1\n",
      "0  10    safa\n",
      "1  20   Leana\n",
      "2  30  mymoon\n",
      "3  40    Ajay\n"
     ]
    }
   ],
   "source": [
    "list=[[10,'safa'],[20,'Leana'],[30,'mymoon'],[40,'Ajay']]\n",
    "df = pd.DataFrame(list)\n",
    "print(df)"
   ]
  },
  {
   "cell_type": "code",
   "execution_count": 126,
   "id": "4965b822-4d47-4f9f-8d7e-3b2052c5a97f",
   "metadata": {},
   "outputs": [
    {
     "data": {
      "text/plain": [
       "'Ajay'"
      ]
     },
     "execution_count": 126,
     "metadata": {},
     "output_type": "execute_result"
    }
   ],
   "source": [
    "df.iloc[3,1]"
   ]
  },
  {
   "cell_type": "code",
   "execution_count": 129,
   "id": "8af5145a-ff08-40cb-872f-48159279fc03",
   "metadata": {},
   "outputs": [
    {
     "name": "stdout",
     "output_type": "stream",
     "text": [
      "      Rno    name\n",
      "1      10    safa\n",
      "20     20   Leana\n",
      "30     30  mymoon\n",
      "four   40    Ajay\n"
     ]
    }
   ],
   "source": [
    "list=[[10,'safa'],[20,'Leana'],[30,'mymoon'],[40,'Ajay']]\n",
    "df = pd.DataFrame(list,columns=['Rno','name'],index=['1',20,30,'four'])\n",
    "print(df)"
   ]
  },
  {
   "cell_type": "code",
   "execution_count": 1,
   "id": "a1db033d-c0b2-4d03-b9ca-6e277fd6cf6a",
   "metadata": {},
   "outputs": [
    {
     "name": "stdout",
     "output_type": "stream",
     "text": [
      "{'Names': ['safa', 'mymoon', 'leana', 'ajay'], 'subjects': ['python', 'java', 'c', 'pandas'], 'ages': [65, 80, 85, 55]}\n"
     ]
    }
   ],
   "source": [
    "dictdata = {\"Names\":[\"safa\",\"mymoon\",\"leana\",\"ajay\"],\"subjects\":[\"python\",\"java\",\"c\",\"pandas\"],\"ages\":[65,80,85,55]}\n",
    "print(dictdata)"
   ]
  },
  {
   "cell_type": "code",
   "execution_count": 3,
   "id": "fd62c4e1-aac5-4564-8c8e-85873ba2073c",
   "metadata": {},
   "outputs": [
    {
     "name": "stdout",
     "output_type": "stream",
     "text": [
      "    Names subjects  ages\n",
      "0    safa   python    65\n",
      "1  mymoon     java    80\n",
      "2   leana        c    85\n",
      "3    ajay   pandas    55\n"
     ]
    }
   ],
   "source": [
    "import pandas as pd \n",
    "df = pd.DataFrame(dictdata)\n",
    "print(df)\n"
   ]
  },
  {
   "cell_type": "code",
   "execution_count": 4,
   "id": "41b1224f-fbd2-41a9-bcdf-7f2f0fd5a835",
   "metadata": {},
   "outputs": [
    {
     "data": {
      "text/plain": [
       "pandas.core.frame.DataFrame"
      ]
     },
     "execution_count": 4,
     "metadata": {},
     "output_type": "execute_result"
    }
   ],
   "source": [
    "type(df)"
   ]
  },
  {
   "cell_type": "code",
   "execution_count": 9,
   "id": "0e9fb63f-2e45-4755-b359-3f4d7384c6be",
   "metadata": {},
   "outputs": [
    {
     "name": "stdout",
     "output_type": "stream",
     "text": [
      "    Names subjects  ages  new column\n",
      "0    safa   python    65          10\n",
      "1  mymoon     java    80          20\n",
      "2   leana        c    85          30\n",
      "3    ajay   pandas    55          40\n"
     ]
    }
   ],
   "source": [
    "df['new column'] = [10,20,30,40]\n",
    "print(df)"
   ]
  },
  {
   "cell_type": "code",
   "execution_count": 12,
   "id": "0d2810f4-384e-43e3-8a2a-d83b2945ef5e",
   "metadata": {},
   "outputs": [
    {
     "name": "stdout",
     "output_type": "stream",
     "text": [
      "  subjects   Names  ages  new column\n",
      "0   python    safa    65          10\n",
      "1     java  mymoon    80          20\n",
      "2        c   leana    85          30\n",
      "3   pandas    ajay    55          40\n"
     ]
    }
   ],
   "source": [
    "df = df[['subjects','Names','ages','new column']]\n",
    "print(df)"
   ]
  },
  {
   "cell_type": "code",
   "execution_count": 14,
   "id": "7c1466f8-0540-41e3-aabe-9f85230133fa",
   "metadata": {},
   "outputs": [
    {
     "name": "stdout",
     "output_type": "stream",
     "text": [
      "  subjects   Names  ages  new column  new column2\n",
      "0   python    safa    65          10            1\n",
      "1     java  mymoon    80          20            2\n",
      "2        c   leana    85          30            3\n",
      "3   pandas    ajay    55          40            4\n"
     ]
    }
   ],
   "source": [
    "df['new column2'] = range(1,5)\n",
    "print(df)"
   ]
  },
  {
   "cell_type": "code",
   "execution_count": 15,
   "id": "0e8dfe3d-aa9c-4951-a4ac-11248dca1925",
   "metadata": {},
   "outputs": [
    {
     "name": "stdout",
     "output_type": "stream",
     "text": [
      "  subjects   Names  ages  new column  new column2\n",
      "3   pandas    ajay    55          40            4\n",
      "2        c   leana    85          30            3\n",
      "1     java  mymoon    80          20            2\n",
      "0   python    safa    65          10            1\n"
     ]
    }
   ],
   "source": [
    "df = df.sort_values([\"Names\"],ascending=True)\n",
    "print(df)"
   ]
  },
  {
   "cell_type": "code",
   "execution_count": 16,
   "id": "85a38156-63ad-49fe-8b19-a95b25684077",
   "metadata": {},
   "outputs": [
    {
     "name": "stdout",
     "output_type": "stream",
     "text": [
      "  subjects   Names  ages  new column  new column2\n",
      "3   pandas    ajay    55          40            4\n",
      "0   python    safa    65          10            1\n",
      "1     java  mymoon    80          20            2\n",
      "2        c   leana    85          30            3\n"
     ]
    }
   ],
   "source": [
    "df = df.sort_values([\"ages\"],ascending=True)\n",
    "print(df)"
   ]
  },
  {
   "cell_type": "code",
   "execution_count": 2,
   "id": "f0db2232-63ca-40e0-97f6-c33076db9d4b",
   "metadata": {},
   "outputs": [
    {
     "name": "stdout",
     "output_type": "stream",
     "text": [
      "          id        city        date player_of_match  \\\n",
      "0     335982   Bangalore  2008-04-18     BB McCullum   \n",
      "1     335983  Chandigarh  2008-04-19      MEK Hussey   \n",
      "2     335984       Delhi  2008-04-19     MF Maharoof   \n",
      "3     335985      Mumbai  2008-04-20      MV Boucher   \n",
      "4     335986     Kolkata  2008-04-20       DJ Hussey   \n",
      "..       ...         ...         ...             ...   \n",
      "811  1216547       Dubai  2020-09-28  AB de Villiers   \n",
      "812  1237177       Dubai  2020-11-05       JJ Bumrah   \n",
      "813  1237178   Abu Dhabi  2020-11-06   KS Williamson   \n",
      "814  1237180   Abu Dhabi  2020-11-08      MP Stoinis   \n",
      "815  1237181       Dubai  2020-11-10        TA Boult   \n",
      "\n",
      "                                          venue  neutral_venue  \\\n",
      "0                         M Chinnaswamy Stadium              0   \n",
      "1    Punjab Cricket Association Stadium, Mohali              0   \n",
      "2                              Feroz Shah Kotla              0   \n",
      "3                              Wankhede Stadium              0   \n",
      "4                                  Eden Gardens              0   \n",
      "..                                          ...            ...   \n",
      "811         Dubai International Cricket Stadium              0   \n",
      "812         Dubai International Cricket Stadium              0   \n",
      "813                        Sheikh Zayed Stadium              0   \n",
      "814                        Sheikh Zayed Stadium              0   \n",
      "815         Dubai International Cricket Stadium              0   \n",
      "\n",
      "                           team1                        team2  \\\n",
      "0    Royal Challengers Bangalore        Kolkata Knight Riders   \n",
      "1                Kings XI Punjab          Chennai Super Kings   \n",
      "2               Delhi Daredevils             Rajasthan Royals   \n",
      "3                 Mumbai Indians  Royal Challengers Bangalore   \n",
      "4          Kolkata Knight Riders              Deccan Chargers   \n",
      "..                           ...                          ...   \n",
      "811  Royal Challengers Bangalore               Mumbai Indians   \n",
      "812               Mumbai Indians               Delhi Capitals   \n",
      "813  Royal Challengers Bangalore          Sunrisers Hyderabad   \n",
      "814               Delhi Capitals          Sunrisers Hyderabad   \n",
      "815               Delhi Capitals               Mumbai Indians   \n",
      "\n",
      "                     toss_winner toss_decision                       winner  \\\n",
      "0    Royal Challengers Bangalore         field        Kolkata Knight Riders   \n",
      "1            Chennai Super Kings           bat          Chennai Super Kings   \n",
      "2               Rajasthan Royals           bat             Delhi Daredevils   \n",
      "3                 Mumbai Indians           bat  Royal Challengers Bangalore   \n",
      "4                Deccan Chargers           bat        Kolkata Knight Riders   \n",
      "..                           ...           ...                          ...   \n",
      "811               Mumbai Indians         field  Royal Challengers Bangalore   \n",
      "812               Delhi Capitals         field               Mumbai Indians   \n",
      "813          Sunrisers Hyderabad         field          Sunrisers Hyderabad   \n",
      "814               Delhi Capitals           bat               Delhi Capitals   \n",
      "815               Delhi Capitals           bat               Mumbai Indians   \n",
      "\n",
      "      result  result_margin eliminator method      umpire1         umpire2  \n",
      "0       runs          140.0          N    NaN    Asad Rauf     RE Koertzen  \n",
      "1       runs           33.0          N    NaN    MR Benson      SL Shastri  \n",
      "2    wickets            9.0          N    NaN    Aleem Dar  GA Pratapkumar  \n",
      "3    wickets            5.0          N    NaN     SJ Davis       DJ Harper  \n",
      "4    wickets            5.0          N    NaN    BF Bowden     K Hariharan  \n",
      "..       ...            ...        ...    ...          ...             ...  \n",
      "811      tie            NaN          Y    NaN  Nitin Menon      PR Reiffel  \n",
      "812     runs           57.0          N    NaN  CB Gaffaney     Nitin Menon  \n",
      "813  wickets            6.0          N    NaN   PR Reiffel          S Ravi  \n",
      "814     runs           17.0          N    NaN   PR Reiffel          S Ravi  \n",
      "815  wickets            5.0          N    NaN  CB Gaffaney     Nitin Menon  \n",
      "\n",
      "[816 rows x 17 columns]\n"
     ]
    }
   ],
   "source": [
    "import pandas as s\n",
    "s1 = s.read_csv(\"C:\\\\Users\\\\Administrator\\\\Downloads\\\\IPL Matches 2008-2020.csv\")\n",
    "print(s1)"
   ]
  },
  {
   "cell_type": "code",
   "execution_count": 3,
   "id": "24778d95-bd3f-4d73-a0e0-5c52e4b6c15c",
   "metadata": {},
   "outputs": [
    {
     "name": "stdout",
     "output_type": "stream",
     "text": [
      "          id        city        date player_of_match  \\\n",
      "0     335982   Bangalore  2008-04-18     BB McCullum   \n",
      "1     335983  Chandigarh  2008-04-19      MEK Hussey   \n",
      "2     335984       Delhi  2008-04-19     MF Maharoof   \n",
      "3     335985      Mumbai  2008-04-20      MV Boucher   \n",
      "4     335986     Kolkata  2008-04-20       DJ Hussey   \n",
      "..       ...         ...         ...             ...   \n",
      "811  1216547       Dubai  2020-09-28  AB de Villiers   \n",
      "812  1237177       Dubai  2020-11-05       JJ Bumrah   \n",
      "813  1237178   Abu Dhabi  2020-11-06   KS Williamson   \n",
      "814  1237180   Abu Dhabi  2020-11-08      MP Stoinis   \n",
      "815  1237181       Dubai  2020-11-10        TA Boult   \n",
      "\n",
      "                                          venue  neutral_venue  \\\n",
      "0                         M Chinnaswamy Stadium              0   \n",
      "1    Punjab Cricket Association Stadium, Mohali              0   \n",
      "2                              Feroz Shah Kotla              0   \n",
      "3                              Wankhede Stadium              0   \n",
      "4                                  Eden Gardens              0   \n",
      "..                                          ...            ...   \n",
      "811         Dubai International Cricket Stadium              0   \n",
      "812         Dubai International Cricket Stadium              0   \n",
      "813                        Sheikh Zayed Stadium              0   \n",
      "814                        Sheikh Zayed Stadium              0   \n",
      "815         Dubai International Cricket Stadium              0   \n",
      "\n",
      "                           team1                        team2  \\\n",
      "0    Royal Challengers Bangalore        Kolkata Knight Riders   \n",
      "1                Kings XI Punjab          Chennai Super Kings   \n",
      "2               Delhi Daredevils             Rajasthan Royals   \n",
      "3                 Mumbai Indians  Royal Challengers Bangalore   \n",
      "4          Kolkata Knight Riders              Deccan Chargers   \n",
      "..                           ...                          ...   \n",
      "811  Royal Challengers Bangalore               Mumbai Indians   \n",
      "812               Mumbai Indians               Delhi Capitals   \n",
      "813  Royal Challengers Bangalore          Sunrisers Hyderabad   \n",
      "814               Delhi Capitals          Sunrisers Hyderabad   \n",
      "815               Delhi Capitals               Mumbai Indians   \n",
      "\n",
      "                     toss_winner toss_decision                       winner  \\\n",
      "0    Royal Challengers Bangalore         field        Kolkata Knight Riders   \n",
      "1            Chennai Super Kings           bat          Chennai Super Kings   \n",
      "2               Rajasthan Royals           bat             Delhi Daredevils   \n",
      "3                 Mumbai Indians           bat  Royal Challengers Bangalore   \n",
      "4                Deccan Chargers           bat        Kolkata Knight Riders   \n",
      "..                           ...           ...                          ...   \n",
      "811               Mumbai Indians         field  Royal Challengers Bangalore   \n",
      "812               Delhi Capitals         field               Mumbai Indians   \n",
      "813          Sunrisers Hyderabad         field          Sunrisers Hyderabad   \n",
      "814               Delhi Capitals           bat               Delhi Capitals   \n",
      "815               Delhi Capitals           bat               Mumbai Indians   \n",
      "\n",
      "      result  result_margin eliminator method      umpire1         umpire2  \n",
      "0       runs          140.0          N    NaN    Asad Rauf     RE Koertzen  \n",
      "1       runs           33.0          N    NaN    MR Benson      SL Shastri  \n",
      "2    wickets            9.0          N    NaN    Aleem Dar  GA Pratapkumar  \n",
      "3    wickets            5.0          N    NaN     SJ Davis       DJ Harper  \n",
      "4    wickets            5.0          N    NaN    BF Bowden     K Hariharan  \n",
      "..       ...            ...        ...    ...          ...             ...  \n",
      "811      tie            NaN          Y    NaN  Nitin Menon      PR Reiffel  \n",
      "812     runs           57.0          N    NaN  CB Gaffaney     Nitin Menon  \n",
      "813  wickets            6.0          N    NaN   PR Reiffel          S Ravi  \n",
      "814     runs           17.0          N    NaN   PR Reiffel          S Ravi  \n",
      "815  wickets            5.0          N    NaN  CB Gaffaney     Nitin Menon  \n",
      "\n",
      "[816 rows x 17 columns]\n"
     ]
    }
   ],
   "source": [
    "s1.head(10)\n",
    "print(s1)"
   ]
  },
  {
   "cell_type": "code",
   "execution_count": 4,
   "id": "84fc488e-0ac1-41d9-bde2-2b331fde8df6",
   "metadata": {},
   "outputs": [
    {
     "name": "stdout",
     "output_type": "stream",
     "text": [
      "          id        city        date player_of_match  \\\n",
      "0     335982   Bangalore  2008-04-18     BB McCullum   \n",
      "1     335983  Chandigarh  2008-04-19      MEK Hussey   \n",
      "2     335984       Delhi  2008-04-19     MF Maharoof   \n",
      "3     335985      Mumbai  2008-04-20      MV Boucher   \n",
      "4     335986     Kolkata  2008-04-20       DJ Hussey   \n",
      "..       ...         ...         ...             ...   \n",
      "811  1216547       Dubai  2020-09-28  AB de Villiers   \n",
      "812  1237177       Dubai  2020-11-05       JJ Bumrah   \n",
      "813  1237178   Abu Dhabi  2020-11-06   KS Williamson   \n",
      "814  1237180   Abu Dhabi  2020-11-08      MP Stoinis   \n",
      "815  1237181       Dubai  2020-11-10        TA Boult   \n",
      "\n",
      "                                          venue  neutral_venue  \\\n",
      "0                         M Chinnaswamy Stadium              0   \n",
      "1    Punjab Cricket Association Stadium, Mohali              0   \n",
      "2                              Feroz Shah Kotla              0   \n",
      "3                              Wankhede Stadium              0   \n",
      "4                                  Eden Gardens              0   \n",
      "..                                          ...            ...   \n",
      "811         Dubai International Cricket Stadium              0   \n",
      "812         Dubai International Cricket Stadium              0   \n",
      "813                        Sheikh Zayed Stadium              0   \n",
      "814                        Sheikh Zayed Stadium              0   \n",
      "815         Dubai International Cricket Stadium              0   \n",
      "\n",
      "                           team1                        team2  \\\n",
      "0    Royal Challengers Bangalore        Kolkata Knight Riders   \n",
      "1                Kings XI Punjab          Chennai Super Kings   \n",
      "2               Delhi Daredevils             Rajasthan Royals   \n",
      "3                 Mumbai Indians  Royal Challengers Bangalore   \n",
      "4          Kolkata Knight Riders              Deccan Chargers   \n",
      "..                           ...                          ...   \n",
      "811  Royal Challengers Bangalore               Mumbai Indians   \n",
      "812               Mumbai Indians               Delhi Capitals   \n",
      "813  Royal Challengers Bangalore          Sunrisers Hyderabad   \n",
      "814               Delhi Capitals          Sunrisers Hyderabad   \n",
      "815               Delhi Capitals               Mumbai Indians   \n",
      "\n",
      "                     toss_winner toss_decision                       winner  \\\n",
      "0    Royal Challengers Bangalore         field        Kolkata Knight Riders   \n",
      "1            Chennai Super Kings           bat          Chennai Super Kings   \n",
      "2               Rajasthan Royals           bat             Delhi Daredevils   \n",
      "3                 Mumbai Indians           bat  Royal Challengers Bangalore   \n",
      "4                Deccan Chargers           bat        Kolkata Knight Riders   \n",
      "..                           ...           ...                          ...   \n",
      "811               Mumbai Indians         field  Royal Challengers Bangalore   \n",
      "812               Delhi Capitals         field               Mumbai Indians   \n",
      "813          Sunrisers Hyderabad         field          Sunrisers Hyderabad   \n",
      "814               Delhi Capitals           bat               Delhi Capitals   \n",
      "815               Delhi Capitals           bat               Mumbai Indians   \n",
      "\n",
      "      result  result_margin eliminator method      umpire1         umpire2  \n",
      "0       runs          140.0          N    NaN    Asad Rauf     RE Koertzen  \n",
      "1       runs           33.0          N    NaN    MR Benson      SL Shastri  \n",
      "2    wickets            9.0          N    NaN    Aleem Dar  GA Pratapkumar  \n",
      "3    wickets            5.0          N    NaN     SJ Davis       DJ Harper  \n",
      "4    wickets            5.0          N    NaN    BF Bowden     K Hariharan  \n",
      "..       ...            ...        ...    ...          ...             ...  \n",
      "811      tie            NaN          Y    NaN  Nitin Menon      PR Reiffel  \n",
      "812     runs           57.0          N    NaN  CB Gaffaney     Nitin Menon  \n",
      "813  wickets            6.0          N    NaN   PR Reiffel          S Ravi  \n",
      "814     runs           17.0          N    NaN   PR Reiffel          S Ravi  \n",
      "815  wickets            5.0          N    NaN  CB Gaffaney     Nitin Menon  \n",
      "\n",
      "[816 rows x 17 columns]\n"
     ]
    }
   ],
   "source": [
    "s1.tail(30)\n",
    "print(s1)"
   ]
  },
  {
   "cell_type": "code",
   "execution_count": null,
   "id": "3bded028-6064-45a5-954f-07aa42a65ba1",
   "metadata": {},
   "outputs": [],
   "source": []
  }
 ],
 "metadata": {
  "kernelspec": {
   "display_name": "Python 3 (ipykernel)",
   "language": "python",
   "name": "python3"
  },
  "language_info": {
   "codemirror_mode": {
    "name": "ipython",
    "version": 3
   },
   "file_extension": ".py",
   "mimetype": "text/x-python",
   "name": "python",
   "nbconvert_exporter": "python",
   "pygments_lexer": "ipython3",
   "version": "3.11.0"
  }
 },
 "nbformat": 4,
 "nbformat_minor": 5
}
