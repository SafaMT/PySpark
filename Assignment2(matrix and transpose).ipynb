{
 "cells": [
  {
   "cell_type": "code",
   "execution_count": 1,
   "id": "11a13c7d-6046-4d75-bb84-afe6c999f6ba",
   "metadata": {},
   "outputs": [
    {
     "name": "stdout",
     "output_type": "stream",
     "text": [
      "[10, 20, 30, 40]\n"
     ]
    }
   ],
   "source": [
    "#how to restore the temporary deleted data ?\n",
    "list = [10,20,30,40,50]\n",
    "temp = list.pop(4)\n",
    "print(list)\n"
   ]
  },
  {
   "cell_type": "code",
   "execution_count": 2,
   "id": "0bf98b7e-ef00-41ae-b271-7ceb76191587",
   "metadata": {},
   "outputs": [
    {
     "name": "stdout",
     "output_type": "stream",
     "text": [
      "[10, 20, 30, 40, 50]\n"
     ]
    }
   ],
   "source": [
    "list.insert(4,temp)\n",
    "print(list)"
   ]
  },
  {
   "cell_type": "code",
   "execution_count": null,
   "id": "30f912f8-95f3-407a-8549-c88140435415",
   "metadata": {},
   "outputs": [],
   "source": [
    "rows = int(input(\"Enter the number of rows:\"))\n",
    "cols= int(input(\"Enter the number of cols:\"))\n",
    "matrix = [[int(input(f\"enter  value for matrix[{i}][{j}]:\"))for j in range(cols)]for i in range(rows)]\n",
    "print(\"matrix:\")\n",
    "for row in matrix:\n",
    "    print(row)\n",
    "transpose = [[matrix[j][i] for j in range(len(matrix))] for i in range(len(matrix[0]))]\n",
    "print(\"transpose:\")\n",
    "for row in transpose:\n",
    "    print(row)"
   ]
  }
 ],
 "metadata": {
  "kernelspec": {
   "display_name": "Python 3 (ipykernel)",
   "language": "python",
   "name": "python3"
  },
  "language_info": {
   "codemirror_mode": {
    "name": "ipython",
    "version": 3
   },
   "file_extension": ".py",
   "mimetype": "text/x-python",
   "name": "python",
   "nbconvert_exporter": "python",
   "pygments_lexer": "ipython3",
   "version": "3.11.0"
  }
 },
 "nbformat": 4,
 "nbformat_minor": 5
}
